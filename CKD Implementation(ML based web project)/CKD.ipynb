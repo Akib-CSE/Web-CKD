{
 "cells": [
  {
   "cell_type": "markdown",
   "metadata": {},
   "source": [
    "### Importing Required Modules"
   ]
  },
  {
   "cell_type": "code",
   "execution_count": 1,
   "metadata": {},
   "outputs": [],
   "source": [
    "import pandas as pd\n",
    "#import pylab as pl\n",
    "import numpy as np\n",
    "import scipy.optimize as opt\n",
    "import matplotlib.pyplot as plt\n",
    "import seaborn as sns\n",
    "from sklearn import preprocessing\n",
    "from sklearn.model_selection import train_test_split\n",
    "from sklearn.model_selection import cross_val_score\n",
    "from sklearn.linear_model import LogisticRegression\n",
    "from sklearn.svm import SVC, LinearSVC\n",
    "from sklearn.ensemble import RandomForestClassifier\n",
    "from sklearn.neighbors import KNeighborsClassifier\n",
    "from sklearn.naive_bayes import GaussianNB\n",
    "from sklearn.linear_model import Perceptron\n",
    "from sklearn.linear_model import SGDClassifier\n",
    "from sklearn.tree import DecisionTreeClassifier\n",
    "from sklearn.ensemble import AdaBoostClassifier\n",
    "from sklearn.metrics import classification_report\n",
    "from sklearn.metrics import roc_auc_score\n",
    "from sklearn.metrics import roc_curve\n",
    "from sklearn.metrics import confusion_matrix\n",
    "from sklearn.metrics import jaccard_score\n",
    "from sklearn.metrics import mean_absolute_error\n",
    "from sklearn.metrics import mean_squared_error\n",
    "from xgboost import XGBClassifier"
   ]
  },
  {
   "cell_type": "markdown",
   "metadata": {},
   "source": [
    "## Import Dataset"
   ]
  },
  {
   "cell_type": "code",
   "execution_count": 2,
   "metadata": {},
   "outputs": [
    {
     "data": {
      "text/html": [
       "<div>\n",
       "<style scoped>\n",
       "    .dataframe tbody tr th:only-of-type {\n",
       "        vertical-align: middle;\n",
       "    }\n",
       "\n",
       "    .dataframe tbody tr th {\n",
       "        vertical-align: top;\n",
       "    }\n",
       "\n",
       "    .dataframe thead th {\n",
       "        text-align: right;\n",
       "    }\n",
       "</style>\n",
       "<table border=\"1\" class=\"dataframe\">\n",
       "  <thead>\n",
       "    <tr style=\"text-align: right;\">\n",
       "      <th></th>\n",
       "      <th>Age</th>\n",
       "      <th>Bp</th>\n",
       "      <th>Sg</th>\n",
       "      <th>Al</th>\n",
       "      <th>Su</th>\n",
       "      <th>Rbc</th>\n",
       "      <th>Pc</th>\n",
       "      <th>Pcc</th>\n",
       "      <th>Ba</th>\n",
       "      <th>Bgr</th>\n",
       "      <th>...</th>\n",
       "      <th>Pcv</th>\n",
       "      <th>Wbcc</th>\n",
       "      <th>Rbcc</th>\n",
       "      <th>Htn</th>\n",
       "      <th>Dm</th>\n",
       "      <th>Cad</th>\n",
       "      <th>Appet</th>\n",
       "      <th>pe</th>\n",
       "      <th>Ane</th>\n",
       "      <th>Class</th>\n",
       "    </tr>\n",
       "  </thead>\n",
       "  <tbody>\n",
       "    <tr>\n",
       "      <th>0</th>\n",
       "      <td>48.0</td>\n",
       "      <td>50</td>\n",
       "      <td>1.020</td>\n",
       "      <td>4</td>\n",
       "      <td>0</td>\n",
       "      <td>1</td>\n",
       "      <td>1.0</td>\n",
       "      <td>0.0</td>\n",
       "      <td>0.0</td>\n",
       "      <td>121.0</td>\n",
       "      <td>...</td>\n",
       "      <td>44.0</td>\n",
       "      <td>6000</td>\n",
       "      <td>4.71</td>\n",
       "      <td>1.0</td>\n",
       "      <td>1</td>\n",
       "      <td>0.0</td>\n",
       "      <td>1.0</td>\n",
       "      <td>0.0</td>\n",
       "      <td>0.0</td>\n",
       "      <td>1</td>\n",
       "    </tr>\n",
       "    <tr>\n",
       "      <th>1</th>\n",
       "      <td>7.0</td>\n",
       "      <td>80</td>\n",
       "      <td>1.010</td>\n",
       "      <td>2</td>\n",
       "      <td>0</td>\n",
       "      <td>1</td>\n",
       "      <td>1.0</td>\n",
       "      <td>0.0</td>\n",
       "      <td>0.0</td>\n",
       "      <td>NaN</td>\n",
       "      <td>...</td>\n",
       "      <td>38.0</td>\n",
       "      <td>7500</td>\n",
       "      <td>4.71</td>\n",
       "      <td>0.0</td>\n",
       "      <td>0</td>\n",
       "      <td>0.0</td>\n",
       "      <td>1.0</td>\n",
       "      <td>0.0</td>\n",
       "      <td>0.0</td>\n",
       "      <td>1</td>\n",
       "    </tr>\n",
       "    <tr>\n",
       "      <th>2</th>\n",
       "      <td>62.0</td>\n",
       "      <td>70</td>\n",
       "      <td>1.005</td>\n",
       "      <td>4</td>\n",
       "      <td>3</td>\n",
       "      <td>1</td>\n",
       "      <td>1.0</td>\n",
       "      <td>0.0</td>\n",
       "      <td>0.0</td>\n",
       "      <td>423.0</td>\n",
       "      <td>...</td>\n",
       "      <td>31.0</td>\n",
       "      <td>6700</td>\n",
       "      <td>3.90</td>\n",
       "      <td>1.0</td>\n",
       "      <td>1</td>\n",
       "      <td>0.0</td>\n",
       "      <td>0.0</td>\n",
       "      <td>0.0</td>\n",
       "      <td>1.0</td>\n",
       "      <td>1</td>\n",
       "    </tr>\n",
       "    <tr>\n",
       "      <th>3</th>\n",
       "      <td>48.0</td>\n",
       "      <td>80</td>\n",
       "      <td>1.010</td>\n",
       "      <td>2</td>\n",
       "      <td>0</td>\n",
       "      <td>1</td>\n",
       "      <td>0.0</td>\n",
       "      <td>1.0</td>\n",
       "      <td>0.0</td>\n",
       "      <td>117.0</td>\n",
       "      <td>...</td>\n",
       "      <td>32.0</td>\n",
       "      <td>7300</td>\n",
       "      <td>4.60</td>\n",
       "      <td>0.0</td>\n",
       "      <td>0</td>\n",
       "      <td>0.0</td>\n",
       "      <td>0.0</td>\n",
       "      <td>1.0</td>\n",
       "      <td>1.0</td>\n",
       "      <td>1</td>\n",
       "    </tr>\n",
       "    <tr>\n",
       "      <th>4</th>\n",
       "      <td>51.0</td>\n",
       "      <td>90</td>\n",
       "      <td>1.015</td>\n",
       "      <td>3</td>\n",
       "      <td>0</td>\n",
       "      <td>1</td>\n",
       "      <td>1.0</td>\n",
       "      <td>0.0</td>\n",
       "      <td>0.0</td>\n",
       "      <td>106.0</td>\n",
       "      <td>...</td>\n",
       "      <td>35.0</td>\n",
       "      <td>7800</td>\n",
       "      <td>4.40</td>\n",
       "      <td>1.0</td>\n",
       "      <td>0</td>\n",
       "      <td>0.0</td>\n",
       "      <td>1.0</td>\n",
       "      <td>0.0</td>\n",
       "      <td>0.0</td>\n",
       "      <td>1</td>\n",
       "    </tr>\n",
       "    <tr>\n",
       "      <th>5</th>\n",
       "      <td>60.0</td>\n",
       "      <td>70</td>\n",
       "      <td>1.010</td>\n",
       "      <td>0</td>\n",
       "      <td>0</td>\n",
       "      <td>1</td>\n",
       "      <td>NaN</td>\n",
       "      <td>0.0</td>\n",
       "      <td>0.0</td>\n",
       "      <td>74.0</td>\n",
       "      <td>...</td>\n",
       "      <td>39.0</td>\n",
       "      <td>8406</td>\n",
       "      <td>4.71</td>\n",
       "      <td>0.0</td>\n",
       "      <td>1</td>\n",
       "      <td>0.0</td>\n",
       "      <td>1.0</td>\n",
       "      <td>1.0</td>\n",
       "      <td>0.0</td>\n",
       "      <td>1</td>\n",
       "    </tr>\n",
       "    <tr>\n",
       "      <th>6</th>\n",
       "      <td>68.0</td>\n",
       "      <td>76</td>\n",
       "      <td>1.015</td>\n",
       "      <td>2</td>\n",
       "      <td>4</td>\n",
       "      <td>1</td>\n",
       "      <td>1.0</td>\n",
       "      <td>0.0</td>\n",
       "      <td>0.0</td>\n",
       "      <td>100.0</td>\n",
       "      <td>...</td>\n",
       "      <td>36.0</td>\n",
       "      <td>6900</td>\n",
       "      <td>5.00</td>\n",
       "      <td>1.0</td>\n",
       "      <td>0</td>\n",
       "      <td>0.0</td>\n",
       "      <td>1.0</td>\n",
       "      <td>0.0</td>\n",
       "      <td>0.0</td>\n",
       "      <td>1</td>\n",
       "    </tr>\n",
       "    <tr>\n",
       "      <th>7</th>\n",
       "      <td>24.0</td>\n",
       "      <td>100</td>\n",
       "      <td>1.015</td>\n",
       "      <td>3</td>\n",
       "      <td>0</td>\n",
       "      <td>1</td>\n",
       "      <td>0.0</td>\n",
       "      <td>0.0</td>\n",
       "      <td>0.0</td>\n",
       "      <td>410.0</td>\n",
       "      <td>...</td>\n",
       "      <td>44.0</td>\n",
       "      <td>9600</td>\n",
       "      <td>4.00</td>\n",
       "      <td>1.0</td>\n",
       "      <td>1</td>\n",
       "      <td>0.0</td>\n",
       "      <td>1.0</td>\n",
       "      <td>1.0</td>\n",
       "      <td>0.0</td>\n",
       "      <td>1</td>\n",
       "    </tr>\n",
       "    <tr>\n",
       "      <th>8</th>\n",
       "      <td>52.0</td>\n",
       "      <td>90</td>\n",
       "      <td>1.020</td>\n",
       "      <td>2</td>\n",
       "      <td>0</td>\n",
       "      <td>0</td>\n",
       "      <td>0.0</td>\n",
       "      <td>1.0</td>\n",
       "      <td>0.0</td>\n",
       "      <td>138.0</td>\n",
       "      <td>...</td>\n",
       "      <td>33.0</td>\n",
       "      <td>12100</td>\n",
       "      <td>3.70</td>\n",
       "      <td>1.0</td>\n",
       "      <td>1</td>\n",
       "      <td>0.0</td>\n",
       "      <td>1.0</td>\n",
       "      <td>0.0</td>\n",
       "      <td>1.0</td>\n",
       "      <td>1</td>\n",
       "    </tr>\n",
       "    <tr>\n",
       "      <th>9</th>\n",
       "      <td>53.0</td>\n",
       "      <td>60</td>\n",
       "      <td>1.010</td>\n",
       "      <td>2</td>\n",
       "      <td>4</td>\n",
       "      <td>1</td>\n",
       "      <td>0.0</td>\n",
       "      <td>1.0</td>\n",
       "      <td>0.0</td>\n",
       "      <td>70.0</td>\n",
       "      <td>...</td>\n",
       "      <td>29.0</td>\n",
       "      <td>8406</td>\n",
       "      <td>4.71</td>\n",
       "      <td>1.0</td>\n",
       "      <td>1</td>\n",
       "      <td>0.0</td>\n",
       "      <td>0.0</td>\n",
       "      <td>0.0</td>\n",
       "      <td>1.0</td>\n",
       "      <td>1</td>\n",
       "    </tr>\n",
       "  </tbody>\n",
       "</table>\n",
       "<p>10 rows × 25 columns</p>\n",
       "</div>"
      ],
      "text/plain": [
       "    Age   Bp     Sg  Al  Su  Rbc   Pc  Pcc   Ba    Bgr  ...   Pcv   Wbcc  \\\n",
       "0  48.0   50  1.020   4   0    1  1.0  0.0  0.0  121.0  ...  44.0   6000   \n",
       "1   7.0   80  1.010   2   0    1  1.0  0.0  0.0    NaN  ...  38.0   7500   \n",
       "2  62.0   70  1.005   4   3    1  1.0  0.0  0.0  423.0  ...  31.0   6700   \n",
       "3  48.0   80  1.010   2   0    1  0.0  1.0  0.0  117.0  ...  32.0   7300   \n",
       "4  51.0   90  1.015   3   0    1  1.0  0.0  0.0  106.0  ...  35.0   7800   \n",
       "5  60.0   70  1.010   0   0    1  NaN  0.0  0.0   74.0  ...  39.0   8406   \n",
       "6  68.0   76  1.015   2   4    1  1.0  0.0  0.0  100.0  ...  36.0   6900   \n",
       "7  24.0  100  1.015   3   0    1  0.0  0.0  0.0  410.0  ...  44.0   9600   \n",
       "8  52.0   90  1.020   2   0    0  0.0  1.0  0.0  138.0  ...  33.0  12100   \n",
       "9  53.0   60  1.010   2   4    1  0.0  1.0  0.0   70.0  ...  29.0   8406   \n",
       "\n",
       "   Rbcc  Htn  Dm  Cad  Appet   pe  Ane  Class  \n",
       "0  4.71  1.0   1  0.0    1.0  0.0  0.0      1  \n",
       "1  4.71  0.0   0  0.0    1.0  0.0  0.0      1  \n",
       "2  3.90  1.0   1  0.0    0.0  0.0  1.0      1  \n",
       "3  4.60  0.0   0  0.0    0.0  1.0  1.0      1  \n",
       "4  4.40  1.0   0  0.0    1.0  0.0  0.0      1  \n",
       "5  4.71  0.0   1  0.0    1.0  1.0  0.0      1  \n",
       "6  5.00  1.0   0  0.0    1.0  0.0  0.0      1  \n",
       "7  4.00  1.0   1  0.0    1.0  1.0  0.0      1  \n",
       "8  3.70  1.0   1  0.0    1.0  0.0  1.0      1  \n",
       "9  4.71  1.0   1  0.0    0.0  0.0  1.0      1  \n",
       "\n",
       "[10 rows x 25 columns]"
      ]
     },
     "execution_count": 2,
     "metadata": {},
     "output_type": "execute_result"
    }
   ],
   "source": [
    "df = pd.read_csv(\"data/CKDCustom.csv\", na_values=\"?\")\n",
    "df.head(10)"
   ]
  },
  {
   "cell_type": "markdown",
   "metadata": {},
   "source": [
    "## Data Pre Processing"
   ]
  },
  {
   "cell_type": "markdown",
   "metadata": {},
   "source": [
    "### Deal with Null Values"
   ]
  },
  {
   "cell_type": "code",
   "execution_count": 3,
   "metadata": {},
   "outputs": [
    {
     "data": {
      "text/html": [
       "<div>\n",
       "<style scoped>\n",
       "    .dataframe tbody tr th:only-of-type {\n",
       "        vertical-align: middle;\n",
       "    }\n",
       "\n",
       "    .dataframe tbody tr th {\n",
       "        vertical-align: top;\n",
       "    }\n",
       "\n",
       "    .dataframe thead th {\n",
       "        text-align: right;\n",
       "    }\n",
       "</style>\n",
       "<table border=\"1\" class=\"dataframe\">\n",
       "  <thead>\n",
       "    <tr style=\"text-align: right;\">\n",
       "      <th></th>\n",
       "      <th>Age</th>\n",
       "      <th>Bp</th>\n",
       "      <th>Sg</th>\n",
       "      <th>Al</th>\n",
       "      <th>Su</th>\n",
       "      <th>Rbc</th>\n",
       "      <th>Pc</th>\n",
       "      <th>Pcc</th>\n",
       "      <th>Ba</th>\n",
       "      <th>Bgr</th>\n",
       "      <th>...</th>\n",
       "      <th>Pcv</th>\n",
       "      <th>Wbcc</th>\n",
       "      <th>Rbcc</th>\n",
       "      <th>Htn</th>\n",
       "      <th>Dm</th>\n",
       "      <th>Cad</th>\n",
       "      <th>Appet</th>\n",
       "      <th>pe</th>\n",
       "      <th>Ane</th>\n",
       "      <th>Class</th>\n",
       "    </tr>\n",
       "  </thead>\n",
       "  <tbody>\n",
       "    <tr>\n",
       "      <th>0</th>\n",
       "      <td>48.0</td>\n",
       "      <td>50</td>\n",
       "      <td>1.020</td>\n",
       "      <td>4</td>\n",
       "      <td>0</td>\n",
       "      <td>1</td>\n",
       "      <td>1.0</td>\n",
       "      <td>0.0</td>\n",
       "      <td>0.0</td>\n",
       "      <td>121.0</td>\n",
       "      <td>...</td>\n",
       "      <td>44.0</td>\n",
       "      <td>6000</td>\n",
       "      <td>4.71</td>\n",
       "      <td>1.0</td>\n",
       "      <td>1</td>\n",
       "      <td>0.0</td>\n",
       "      <td>1.0</td>\n",
       "      <td>0.0</td>\n",
       "      <td>0.0</td>\n",
       "      <td>1</td>\n",
       "    </tr>\n",
       "    <tr>\n",
       "      <th>1</th>\n",
       "      <td>7.0</td>\n",
       "      <td>80</td>\n",
       "      <td>1.010</td>\n",
       "      <td>2</td>\n",
       "      <td>0</td>\n",
       "      <td>1</td>\n",
       "      <td>1.0</td>\n",
       "      <td>0.0</td>\n",
       "      <td>0.0</td>\n",
       "      <td>NaN</td>\n",
       "      <td>...</td>\n",
       "      <td>38.0</td>\n",
       "      <td>7500</td>\n",
       "      <td>4.71</td>\n",
       "      <td>0.0</td>\n",
       "      <td>0</td>\n",
       "      <td>0.0</td>\n",
       "      <td>1.0</td>\n",
       "      <td>0.0</td>\n",
       "      <td>0.0</td>\n",
       "      <td>1</td>\n",
       "    </tr>\n",
       "    <tr>\n",
       "      <th>2</th>\n",
       "      <td>62.0</td>\n",
       "      <td>70</td>\n",
       "      <td>1.005</td>\n",
       "      <td>4</td>\n",
       "      <td>3</td>\n",
       "      <td>1</td>\n",
       "      <td>1.0</td>\n",
       "      <td>0.0</td>\n",
       "      <td>0.0</td>\n",
       "      <td>423.0</td>\n",
       "      <td>...</td>\n",
       "      <td>31.0</td>\n",
       "      <td>6700</td>\n",
       "      <td>3.90</td>\n",
       "      <td>1.0</td>\n",
       "      <td>1</td>\n",
       "      <td>0.0</td>\n",
       "      <td>0.0</td>\n",
       "      <td>0.0</td>\n",
       "      <td>1.0</td>\n",
       "      <td>1</td>\n",
       "    </tr>\n",
       "    <tr>\n",
       "      <th>3</th>\n",
       "      <td>48.0</td>\n",
       "      <td>80</td>\n",
       "      <td>1.010</td>\n",
       "      <td>2</td>\n",
       "      <td>0</td>\n",
       "      <td>1</td>\n",
       "      <td>0.0</td>\n",
       "      <td>1.0</td>\n",
       "      <td>0.0</td>\n",
       "      <td>117.0</td>\n",
       "      <td>...</td>\n",
       "      <td>32.0</td>\n",
       "      <td>7300</td>\n",
       "      <td>4.60</td>\n",
       "      <td>0.0</td>\n",
       "      <td>0</td>\n",
       "      <td>0.0</td>\n",
       "      <td>0.0</td>\n",
       "      <td>1.0</td>\n",
       "      <td>1.0</td>\n",
       "      <td>1</td>\n",
       "    </tr>\n",
       "    <tr>\n",
       "      <th>4</th>\n",
       "      <td>51.0</td>\n",
       "      <td>90</td>\n",
       "      <td>1.015</td>\n",
       "      <td>3</td>\n",
       "      <td>0</td>\n",
       "      <td>1</td>\n",
       "      <td>1.0</td>\n",
       "      <td>0.0</td>\n",
       "      <td>0.0</td>\n",
       "      <td>106.0</td>\n",
       "      <td>...</td>\n",
       "      <td>35.0</td>\n",
       "      <td>7800</td>\n",
       "      <td>4.40</td>\n",
       "      <td>1.0</td>\n",
       "      <td>0</td>\n",
       "      <td>0.0</td>\n",
       "      <td>1.0</td>\n",
       "      <td>0.0</td>\n",
       "      <td>0.0</td>\n",
       "      <td>1</td>\n",
       "    </tr>\n",
       "    <tr>\n",
       "      <th>5</th>\n",
       "      <td>60.0</td>\n",
       "      <td>70</td>\n",
       "      <td>1.010</td>\n",
       "      <td>0</td>\n",
       "      <td>0</td>\n",
       "      <td>1</td>\n",
       "      <td>NaN</td>\n",
       "      <td>0.0</td>\n",
       "      <td>0.0</td>\n",
       "      <td>74.0</td>\n",
       "      <td>...</td>\n",
       "      <td>39.0</td>\n",
       "      <td>8406</td>\n",
       "      <td>4.71</td>\n",
       "      <td>0.0</td>\n",
       "      <td>1</td>\n",
       "      <td>0.0</td>\n",
       "      <td>1.0</td>\n",
       "      <td>1.0</td>\n",
       "      <td>0.0</td>\n",
       "      <td>1</td>\n",
       "    </tr>\n",
       "    <tr>\n",
       "      <th>6</th>\n",
       "      <td>68.0</td>\n",
       "      <td>76</td>\n",
       "      <td>1.015</td>\n",
       "      <td>2</td>\n",
       "      <td>4</td>\n",
       "      <td>1</td>\n",
       "      <td>1.0</td>\n",
       "      <td>0.0</td>\n",
       "      <td>0.0</td>\n",
       "      <td>100.0</td>\n",
       "      <td>...</td>\n",
       "      <td>36.0</td>\n",
       "      <td>6900</td>\n",
       "      <td>5.00</td>\n",
       "      <td>1.0</td>\n",
       "      <td>0</td>\n",
       "      <td>0.0</td>\n",
       "      <td>1.0</td>\n",
       "      <td>0.0</td>\n",
       "      <td>0.0</td>\n",
       "      <td>1</td>\n",
       "    </tr>\n",
       "    <tr>\n",
       "      <th>7</th>\n",
       "      <td>24.0</td>\n",
       "      <td>100</td>\n",
       "      <td>1.015</td>\n",
       "      <td>3</td>\n",
       "      <td>0</td>\n",
       "      <td>1</td>\n",
       "      <td>0.0</td>\n",
       "      <td>0.0</td>\n",
       "      <td>0.0</td>\n",
       "      <td>410.0</td>\n",
       "      <td>...</td>\n",
       "      <td>44.0</td>\n",
       "      <td>9600</td>\n",
       "      <td>4.00</td>\n",
       "      <td>1.0</td>\n",
       "      <td>1</td>\n",
       "      <td>0.0</td>\n",
       "      <td>1.0</td>\n",
       "      <td>1.0</td>\n",
       "      <td>0.0</td>\n",
       "      <td>1</td>\n",
       "    </tr>\n",
       "    <tr>\n",
       "      <th>8</th>\n",
       "      <td>52.0</td>\n",
       "      <td>90</td>\n",
       "      <td>1.020</td>\n",
       "      <td>2</td>\n",
       "      <td>0</td>\n",
       "      <td>0</td>\n",
       "      <td>0.0</td>\n",
       "      <td>1.0</td>\n",
       "      <td>0.0</td>\n",
       "      <td>138.0</td>\n",
       "      <td>...</td>\n",
       "      <td>33.0</td>\n",
       "      <td>12100</td>\n",
       "      <td>3.70</td>\n",
       "      <td>1.0</td>\n",
       "      <td>1</td>\n",
       "      <td>0.0</td>\n",
       "      <td>1.0</td>\n",
       "      <td>0.0</td>\n",
       "      <td>1.0</td>\n",
       "      <td>1</td>\n",
       "    </tr>\n",
       "    <tr>\n",
       "      <th>9</th>\n",
       "      <td>53.0</td>\n",
       "      <td>60</td>\n",
       "      <td>1.010</td>\n",
       "      <td>2</td>\n",
       "      <td>4</td>\n",
       "      <td>1</td>\n",
       "      <td>0.0</td>\n",
       "      <td>1.0</td>\n",
       "      <td>0.0</td>\n",
       "      <td>70.0</td>\n",
       "      <td>...</td>\n",
       "      <td>29.0</td>\n",
       "      <td>8406</td>\n",
       "      <td>4.71</td>\n",
       "      <td>1.0</td>\n",
       "      <td>1</td>\n",
       "      <td>0.0</td>\n",
       "      <td>0.0</td>\n",
       "      <td>0.0</td>\n",
       "      <td>1.0</td>\n",
       "      <td>1</td>\n",
       "    </tr>\n",
       "  </tbody>\n",
       "</table>\n",
       "<p>10 rows × 25 columns</p>\n",
       "</div>"
      ],
      "text/plain": [
       "    Age   Bp     Sg  Al  Su  Rbc   Pc  Pcc   Ba    Bgr  ...   Pcv   Wbcc  \\\n",
       "0  48.0   50  1.020   4   0    1  1.0  0.0  0.0  121.0  ...  44.0   6000   \n",
       "1   7.0   80  1.010   2   0    1  1.0  0.0  0.0    NaN  ...  38.0   7500   \n",
       "2  62.0   70  1.005   4   3    1  1.0  0.0  0.0  423.0  ...  31.0   6700   \n",
       "3  48.0   80  1.010   2   0    1  0.0  1.0  0.0  117.0  ...  32.0   7300   \n",
       "4  51.0   90  1.015   3   0    1  1.0  0.0  0.0  106.0  ...  35.0   7800   \n",
       "5  60.0   70  1.010   0   0    1  NaN  0.0  0.0   74.0  ...  39.0   8406   \n",
       "6  68.0   76  1.015   2   4    1  1.0  0.0  0.0  100.0  ...  36.0   6900   \n",
       "7  24.0  100  1.015   3   0    1  0.0  0.0  0.0  410.0  ...  44.0   9600   \n",
       "8  52.0   90  1.020   2   0    0  0.0  1.0  0.0  138.0  ...  33.0  12100   \n",
       "9  53.0   60  1.010   2   4    1  0.0  1.0  0.0   70.0  ...  29.0   8406   \n",
       "\n",
       "   Rbcc  Htn  Dm  Cad  Appet   pe  Ane  Class  \n",
       "0  4.71  1.0   1  0.0    1.0  0.0  0.0      1  \n",
       "1  4.71  0.0   0  0.0    1.0  0.0  0.0      1  \n",
       "2  3.90  1.0   1  0.0    0.0  0.0  1.0      1  \n",
       "3  4.60  0.0   0  0.0    0.0  1.0  1.0      1  \n",
       "4  4.40  1.0   0  0.0    1.0  0.0  0.0      1  \n",
       "5  4.71  0.0   1  0.0    1.0  1.0  0.0      1  \n",
       "6  5.00  1.0   0  0.0    1.0  0.0  0.0      1  \n",
       "7  4.00  1.0   1  0.0    1.0  1.0  0.0      1  \n",
       "8  3.70  1.0   1  0.0    1.0  0.0  1.0      1  \n",
       "9  4.71  1.0   1  0.0    0.0  0.0  1.0      1  \n",
       "\n",
       "[10 rows x 25 columns]"
      ]
     },
     "execution_count": 3,
     "metadata": {},
     "output_type": "execute_result"
    }
   ],
   "source": [
    "df.replace(\"?\", np.NaN)\n",
    "df.head(10)"
   ]
  },
  {
   "cell_type": "code",
   "execution_count": 4,
   "metadata": {},
   "outputs": [
    {
     "data": {
      "text/plain": [
       "Age       234\n",
       "Bp          0\n",
       "Sg          0\n",
       "Al          0\n",
       "Su          0\n",
       "Rbc         0\n",
       "Pc       1672\n",
       "Pcc       100\n",
       "Ba        100\n",
       "Bgr      1142\n",
       "Bu          0\n",
       "Sc          0\n",
       "Sod        74\n",
       "Pot         0\n",
       "Hemo        0\n",
       "Pcv      1845\n",
       "Wbcc        0\n",
       "Rbcc        0\n",
       "Htn         0\n",
       "Dm          0\n",
       "Cad        52\n",
       "Appet      26\n",
       "pe         26\n",
       "Ane        26\n",
       "Class       0\n",
       "dtype: int64"
      ]
     },
     "execution_count": 4,
     "metadata": {},
     "output_type": "execute_result"
    }
   ],
   "source": [
    "df.isna().sum()"
   ]
  },
  {
   "cell_type": "code",
   "execution_count": 5,
   "metadata": {},
   "outputs": [
    {
     "data": {
      "text/plain": [
       "(10321, 25)"
      ]
     },
     "execution_count": 5,
     "metadata": {},
     "output_type": "execute_result"
    }
   ],
   "source": [
    "df.shape"
   ]
  },
  {
   "cell_type": "code",
   "execution_count": 6,
   "metadata": {},
   "outputs": [],
   "source": [
    "Age = df['Age'].isna().sum()*(100/10321)\n",
    "Bp = df['Bp'].isna().sum()*(100/10321)\n",
    "Sg = df['Sg'].isna().sum()*(100/10321)\n",
    "Al = df['Al'].isna().sum()*(100/10321)\n",
    "Su = df['Su'].isna().sum()*(100/10321)\n",
    "Rbc = df['Rbc'].isna().sum()*(100/10321)\n",
    "Pc = df['Pc'].isna().sum()*(100/10321)\n",
    "Pcc = df['Pcc'].isna().sum()*(100/10321)\n",
    "Ba = df['Ba'].isna().sum()*(100/10321)\n",
    "Bgr = df['Bgr'].isna().sum()*(100/10321)\n",
    "Bu = df['Bu'].isna().sum()*(100/10321)\n",
    "Sc = df['Sc'].isna().sum()*(100/10321)\n",
    "Sod = df['Sod'].isna().sum()*(100/10321)\n",
    "Pot = df['Pot'].isna().sum()*(100/10321)\n",
    "Hemo = df['Hemo'].isna().sum()*(100/10321)\n",
    "Pcv = df['Pcv'].isna().sum()*(100/10321)\n",
    "Wbcc = df['Wbcc'].isna().sum()*(100/10321)\n",
    "Rbcc = df['Rbcc'].isna().sum()*(100/10321)\n",
    "Htn = df['Htn'].isna().sum()*(100/10321)\n",
    "Dm = df['Dm'].isna().sum()*(100/10321)\n",
    "Cad = df['Cad'].isna().sum()*(100/10321)\n",
    "Appet = df['Appet'].isna().sum()*(100/10321)\n",
    "pe = df['pe'].isna().sum()*(100/10321)\n",
    "Ane = df['Ane'].isna().sum()*(100/10321)\n",
    "Class = df['Class'].isna().sum()*(100/10321)"
   ]
  },
  {
   "cell_type": "code",
   "execution_count": 7,
   "metadata": {},
   "outputs": [
    {
     "data": {
      "text/html": [
       "<div>\n",
       "<style scoped>\n",
       "    .dataframe tbody tr th:only-of-type {\n",
       "        vertical-align: middle;\n",
       "    }\n",
       "\n",
       "    .dataframe tbody tr th {\n",
       "        vertical-align: top;\n",
       "    }\n",
       "\n",
       "    .dataframe thead th {\n",
       "        text-align: right;\n",
       "    }\n",
       "</style>\n",
       "<table border=\"1\" class=\"dataframe\">\n",
       "  <thead>\n",
       "    <tr style=\"text-align: right;\">\n",
       "      <th></th>\n",
       "      <th>Attribute</th>\n",
       "      <th>Missing Values (%)</th>\n",
       "    </tr>\n",
       "  </thead>\n",
       "  <tbody>\n",
       "    <tr>\n",
       "      <th>0</th>\n",
       "      <td>Age</td>\n",
       "      <td>2.27</td>\n",
       "    </tr>\n",
       "    <tr>\n",
       "      <th>3</th>\n",
       "      <td>Albumin</td>\n",
       "      <td>0.00</td>\n",
       "    </tr>\n",
       "    <tr>\n",
       "      <th>23</th>\n",
       "      <td>Anemia</td>\n",
       "      <td>0.25</td>\n",
       "    </tr>\n",
       "    <tr>\n",
       "      <th>21</th>\n",
       "      <td>Appetite</td>\n",
       "      <td>0.25</td>\n",
       "    </tr>\n",
       "    <tr>\n",
       "      <th>8</th>\n",
       "      <td>Bacteria</td>\n",
       "      <td>0.97</td>\n",
       "    </tr>\n",
       "    <tr>\n",
       "      <th>9</th>\n",
       "      <td>Blood Glucose Random</td>\n",
       "      <td>11.06</td>\n",
       "    </tr>\n",
       "    <tr>\n",
       "      <th>1</th>\n",
       "      <td>Blood Pressure</td>\n",
       "      <td>0.00</td>\n",
       "    </tr>\n",
       "    <tr>\n",
       "      <th>10</th>\n",
       "      <td>Blood Urea</td>\n",
       "      <td>0.00</td>\n",
       "    </tr>\n",
       "    <tr>\n",
       "      <th>24</th>\n",
       "      <td>Class</td>\n",
       "      <td>0.00</td>\n",
       "    </tr>\n",
       "    <tr>\n",
       "      <th>20</th>\n",
       "      <td>Coronary Artery Disease</td>\n",
       "      <td>0.50</td>\n",
       "    </tr>\n",
       "    <tr>\n",
       "      <th>19</th>\n",
       "      <td>Diabetes Mellitus</td>\n",
       "      <td>0.00</td>\n",
       "    </tr>\n",
       "    <tr>\n",
       "      <th>14</th>\n",
       "      <td>Hemoglobin</td>\n",
       "      <td>0.00</td>\n",
       "    </tr>\n",
       "    <tr>\n",
       "      <th>18</th>\n",
       "      <td>Hypertension</td>\n",
       "      <td>0.00</td>\n",
       "    </tr>\n",
       "    <tr>\n",
       "      <th>15</th>\n",
       "      <td>Packed Cell Volume</td>\n",
       "      <td>17.88</td>\n",
       "    </tr>\n",
       "    <tr>\n",
       "      <th>22</th>\n",
       "      <td>Pedal Edema</td>\n",
       "      <td>0.25</td>\n",
       "    </tr>\n",
       "    <tr>\n",
       "      <th>13</th>\n",
       "      <td>Potassium</td>\n",
       "      <td>0.00</td>\n",
       "    </tr>\n",
       "    <tr>\n",
       "      <th>6</th>\n",
       "      <td>Pus Cell</td>\n",
       "      <td>16.20</td>\n",
       "    </tr>\n",
       "    <tr>\n",
       "      <th>7</th>\n",
       "      <td>Pus Cell Clumps</td>\n",
       "      <td>0.97</td>\n",
       "    </tr>\n",
       "    <tr>\n",
       "      <th>17</th>\n",
       "      <td>Red Blood Cell Count</td>\n",
       "      <td>0.00</td>\n",
       "    </tr>\n",
       "    <tr>\n",
       "      <th>5</th>\n",
       "      <td>Red Blood Cells</td>\n",
       "      <td>0.00</td>\n",
       "    </tr>\n",
       "    <tr>\n",
       "      <th>11</th>\n",
       "      <td>Serum Creatinine</td>\n",
       "      <td>0.00</td>\n",
       "    </tr>\n",
       "    <tr>\n",
       "      <th>12</th>\n",
       "      <td>Sodium</td>\n",
       "      <td>0.72</td>\n",
       "    </tr>\n",
       "    <tr>\n",
       "      <th>2</th>\n",
       "      <td>Specific Gravity</td>\n",
       "      <td>0.00</td>\n",
       "    </tr>\n",
       "    <tr>\n",
       "      <th>4</th>\n",
       "      <td>Sugar</td>\n",
       "      <td>0.00</td>\n",
       "    </tr>\n",
       "    <tr>\n",
       "      <th>16</th>\n",
       "      <td>White Blood Cell Count</td>\n",
       "      <td>0.00</td>\n",
       "    </tr>\n",
       "  </tbody>\n",
       "</table>\n",
       "</div>"
      ],
      "text/plain": [
       "                  Attribute  Missing Values (%)\n",
       "0                       Age                2.27\n",
       "3                   Albumin                0.00\n",
       "23                   Anemia                0.25\n",
       "21                 Appetite                0.25\n",
       "8                  Bacteria                0.97\n",
       "9      Blood Glucose Random               11.06\n",
       "1            Blood Pressure                0.00\n",
       "10               Blood Urea                0.00\n",
       "24                    Class                0.00\n",
       "20  Coronary Artery Disease                0.50\n",
       "19        Diabetes Mellitus                0.00\n",
       "14               Hemoglobin                0.00\n",
       "18             Hypertension                0.00\n",
       "15       Packed Cell Volume               17.88\n",
       "22              Pedal Edema                0.25\n",
       "13                Potassium                0.00\n",
       "6                  Pus Cell               16.20\n",
       "7           Pus Cell Clumps                0.97\n",
       "17     Red Blood Cell Count                0.00\n",
       "5           Red Blood Cells                0.00\n",
       "11         Serum Creatinine                0.00\n",
       "12                   Sodium                0.72\n",
       "2          Specific Gravity                0.00\n",
       "4                     Sugar                0.00\n",
       "16   White Blood Cell Count                0.00"
      ]
     },
     "execution_count": 7,
     "metadata": {},
     "output_type": "execute_result"
    }
   ],
   "source": [
    "Null_Percentage = pd.DataFrame({\n",
    "    'Attribute': ['Age' , 'Blood Pressure' , 'Specific Gravity' , 'Albumin' , 'Sugar' , 'Red Blood Cells' , 'Pus Cell' , 'Pus Cell Clumps' , 'Bacteria' , 'Blood Glucose Random' , 'Blood Urea' , 'Serum Creatinine' , 'Sodium' , 'Potassium' , 'Hemoglobin' , 'Packed Cell Volume' , 'White Blood Cell Count' , 'Red Blood Cell Count' , 'Hypertension' , 'Diabetes Mellitus' , 'Coronary Artery Disease' , 'Appetite' , 'Pedal Edema' , 'Anemia' , 'Class'],\n",
    "    'Missing Values (%)' : [(round(Age, 2)) ,(round(Bp, 2)) ,(round(Sg, 2)),(round(Al, 2)) ,(round(Su, 2)) ,(round(Rbc, 2)) ,(round(Pc, 2)) ,(round(Pcc, 2)) ,(round(Ba, 2)) ,(round(Bgr, 2)) ,(round(Bu, 2)) ,(round(Sc, 2)) ,(round(Sod, 2)) ,(round(Pot, 2)) ,(round(Hemo, 2)) ,(round(Pcv, 2)) ,(round(Wbcc, 2)) ,(round(Rbcc, 2)) ,(round(Htn, 2)) ,(round(Dm, 2)) ,(round(Cad, 2)) ,(round(Appet, 2)) ,(round(pe, 2)) ,(round(Ane, 2)) ,(round(Class, 2))]\n",
    "})\n",
    "Null_Percentage.sort_values(by = 'Attribute', ascending = True)"
   ]
  },
  {
   "cell_type": "code",
   "execution_count": 8,
   "metadata": {},
   "outputs": [
    {
     "data": {
      "text/html": [
       "<div>\n",
       "<style scoped>\n",
       "    .dataframe tbody tr th:only-of-type {\n",
       "        vertical-align: middle;\n",
       "    }\n",
       "\n",
       "    .dataframe tbody tr th {\n",
       "        vertical-align: top;\n",
       "    }\n",
       "\n",
       "    .dataframe thead th {\n",
       "        text-align: right;\n",
       "    }\n",
       "</style>\n",
       "<table border=\"1\" class=\"dataframe\">\n",
       "  <thead>\n",
       "    <tr style=\"text-align: right;\">\n",
       "      <th></th>\n",
       "      <th>Age</th>\n",
       "      <th>Bp</th>\n",
       "      <th>Sg</th>\n",
       "      <th>Al</th>\n",
       "      <th>Su</th>\n",
       "      <th>Rbc</th>\n",
       "      <th>Pc</th>\n",
       "      <th>Pcc</th>\n",
       "      <th>Ba</th>\n",
       "      <th>Bgr</th>\n",
       "      <th>...</th>\n",
       "      <th>Pcv</th>\n",
       "      <th>Wbcc</th>\n",
       "      <th>Rbcc</th>\n",
       "      <th>Htn</th>\n",
       "      <th>Dm</th>\n",
       "      <th>Cad</th>\n",
       "      <th>Appet</th>\n",
       "      <th>pe</th>\n",
       "      <th>Ane</th>\n",
       "      <th>Class</th>\n",
       "    </tr>\n",
       "  </thead>\n",
       "  <tbody>\n",
       "    <tr>\n",
       "      <th>0</th>\n",
       "      <td>48.0</td>\n",
       "      <td>50</td>\n",
       "      <td>1.020</td>\n",
       "      <td>4</td>\n",
       "      <td>0</td>\n",
       "      <td>1</td>\n",
       "      <td>1.00</td>\n",
       "      <td>0.0</td>\n",
       "      <td>0.0</td>\n",
       "      <td>121.0</td>\n",
       "      <td>...</td>\n",
       "      <td>44.0</td>\n",
       "      <td>6000</td>\n",
       "      <td>4.71</td>\n",
       "      <td>1.0</td>\n",
       "      <td>1</td>\n",
       "      <td>0.0</td>\n",
       "      <td>1.0</td>\n",
       "      <td>0.0</td>\n",
       "      <td>0.0</td>\n",
       "      <td>1</td>\n",
       "    </tr>\n",
       "    <tr>\n",
       "      <th>1</th>\n",
       "      <td>7.0</td>\n",
       "      <td>80</td>\n",
       "      <td>1.010</td>\n",
       "      <td>2</td>\n",
       "      <td>0</td>\n",
       "      <td>1</td>\n",
       "      <td>1.00</td>\n",
       "      <td>0.0</td>\n",
       "      <td>0.0</td>\n",
       "      <td>148.4</td>\n",
       "      <td>...</td>\n",
       "      <td>38.0</td>\n",
       "      <td>7500</td>\n",
       "      <td>4.71</td>\n",
       "      <td>0.0</td>\n",
       "      <td>0</td>\n",
       "      <td>0.0</td>\n",
       "      <td>1.0</td>\n",
       "      <td>0.0</td>\n",
       "      <td>0.0</td>\n",
       "      <td>1</td>\n",
       "    </tr>\n",
       "    <tr>\n",
       "      <th>2</th>\n",
       "      <td>62.0</td>\n",
       "      <td>70</td>\n",
       "      <td>1.005</td>\n",
       "      <td>4</td>\n",
       "      <td>3</td>\n",
       "      <td>1</td>\n",
       "      <td>1.00</td>\n",
       "      <td>0.0</td>\n",
       "      <td>0.0</td>\n",
       "      <td>423.0</td>\n",
       "      <td>...</td>\n",
       "      <td>31.0</td>\n",
       "      <td>6700</td>\n",
       "      <td>3.90</td>\n",
       "      <td>1.0</td>\n",
       "      <td>1</td>\n",
       "      <td>0.0</td>\n",
       "      <td>0.0</td>\n",
       "      <td>0.0</td>\n",
       "      <td>1.0</td>\n",
       "      <td>1</td>\n",
       "    </tr>\n",
       "    <tr>\n",
       "      <th>3</th>\n",
       "      <td>48.0</td>\n",
       "      <td>80</td>\n",
       "      <td>1.010</td>\n",
       "      <td>2</td>\n",
       "      <td>0</td>\n",
       "      <td>1</td>\n",
       "      <td>0.00</td>\n",
       "      <td>1.0</td>\n",
       "      <td>0.0</td>\n",
       "      <td>117.0</td>\n",
       "      <td>...</td>\n",
       "      <td>32.0</td>\n",
       "      <td>7300</td>\n",
       "      <td>4.60</td>\n",
       "      <td>0.0</td>\n",
       "      <td>0</td>\n",
       "      <td>0.0</td>\n",
       "      <td>0.0</td>\n",
       "      <td>1.0</td>\n",
       "      <td>1.0</td>\n",
       "      <td>1</td>\n",
       "    </tr>\n",
       "    <tr>\n",
       "      <th>4</th>\n",
       "      <td>51.0</td>\n",
       "      <td>90</td>\n",
       "      <td>1.015</td>\n",
       "      <td>3</td>\n",
       "      <td>0</td>\n",
       "      <td>1</td>\n",
       "      <td>1.00</td>\n",
       "      <td>0.0</td>\n",
       "      <td>0.0</td>\n",
       "      <td>106.0</td>\n",
       "      <td>...</td>\n",
       "      <td>35.0</td>\n",
       "      <td>7800</td>\n",
       "      <td>4.40</td>\n",
       "      <td>1.0</td>\n",
       "      <td>0</td>\n",
       "      <td>0.0</td>\n",
       "      <td>1.0</td>\n",
       "      <td>0.0</td>\n",
       "      <td>0.0</td>\n",
       "      <td>1</td>\n",
       "    </tr>\n",
       "    <tr>\n",
       "      <th>5</th>\n",
       "      <td>60.0</td>\n",
       "      <td>70</td>\n",
       "      <td>1.010</td>\n",
       "      <td>0</td>\n",
       "      <td>0</td>\n",
       "      <td>1</td>\n",
       "      <td>0.76</td>\n",
       "      <td>0.0</td>\n",
       "      <td>0.0</td>\n",
       "      <td>74.0</td>\n",
       "      <td>...</td>\n",
       "      <td>39.0</td>\n",
       "      <td>8406</td>\n",
       "      <td>4.71</td>\n",
       "      <td>0.0</td>\n",
       "      <td>1</td>\n",
       "      <td>0.0</td>\n",
       "      <td>1.0</td>\n",
       "      <td>1.0</td>\n",
       "      <td>0.0</td>\n",
       "      <td>1</td>\n",
       "    </tr>\n",
       "    <tr>\n",
       "      <th>6</th>\n",
       "      <td>68.0</td>\n",
       "      <td>76</td>\n",
       "      <td>1.015</td>\n",
       "      <td>2</td>\n",
       "      <td>4</td>\n",
       "      <td>1</td>\n",
       "      <td>1.00</td>\n",
       "      <td>0.0</td>\n",
       "      <td>0.0</td>\n",
       "      <td>100.0</td>\n",
       "      <td>...</td>\n",
       "      <td>36.0</td>\n",
       "      <td>6900</td>\n",
       "      <td>5.00</td>\n",
       "      <td>1.0</td>\n",
       "      <td>0</td>\n",
       "      <td>0.0</td>\n",
       "      <td>1.0</td>\n",
       "      <td>0.0</td>\n",
       "      <td>0.0</td>\n",
       "      <td>1</td>\n",
       "    </tr>\n",
       "    <tr>\n",
       "      <th>7</th>\n",
       "      <td>24.0</td>\n",
       "      <td>100</td>\n",
       "      <td>1.015</td>\n",
       "      <td>3</td>\n",
       "      <td>0</td>\n",
       "      <td>1</td>\n",
       "      <td>0.00</td>\n",
       "      <td>0.0</td>\n",
       "      <td>0.0</td>\n",
       "      <td>410.0</td>\n",
       "      <td>...</td>\n",
       "      <td>44.0</td>\n",
       "      <td>9600</td>\n",
       "      <td>4.00</td>\n",
       "      <td>1.0</td>\n",
       "      <td>1</td>\n",
       "      <td>0.0</td>\n",
       "      <td>1.0</td>\n",
       "      <td>1.0</td>\n",
       "      <td>0.0</td>\n",
       "      <td>1</td>\n",
       "    </tr>\n",
       "    <tr>\n",
       "      <th>8</th>\n",
       "      <td>52.0</td>\n",
       "      <td>90</td>\n",
       "      <td>1.020</td>\n",
       "      <td>2</td>\n",
       "      <td>0</td>\n",
       "      <td>0</td>\n",
       "      <td>0.00</td>\n",
       "      <td>1.0</td>\n",
       "      <td>0.0</td>\n",
       "      <td>138.0</td>\n",
       "      <td>...</td>\n",
       "      <td>33.0</td>\n",
       "      <td>12100</td>\n",
       "      <td>3.70</td>\n",
       "      <td>1.0</td>\n",
       "      <td>1</td>\n",
       "      <td>0.0</td>\n",
       "      <td>1.0</td>\n",
       "      <td>0.0</td>\n",
       "      <td>1.0</td>\n",
       "      <td>1</td>\n",
       "    </tr>\n",
       "    <tr>\n",
       "      <th>9</th>\n",
       "      <td>53.0</td>\n",
       "      <td>60</td>\n",
       "      <td>1.010</td>\n",
       "      <td>2</td>\n",
       "      <td>4</td>\n",
       "      <td>1</td>\n",
       "      <td>0.00</td>\n",
       "      <td>1.0</td>\n",
       "      <td>0.0</td>\n",
       "      <td>70.0</td>\n",
       "      <td>...</td>\n",
       "      <td>29.0</td>\n",
       "      <td>8406</td>\n",
       "      <td>4.71</td>\n",
       "      <td>1.0</td>\n",
       "      <td>1</td>\n",
       "      <td>0.0</td>\n",
       "      <td>0.0</td>\n",
       "      <td>0.0</td>\n",
       "      <td>1.0</td>\n",
       "      <td>1</td>\n",
       "    </tr>\n",
       "  </tbody>\n",
       "</table>\n",
       "<p>10 rows × 25 columns</p>\n",
       "</div>"
      ],
      "text/plain": [
       "    Age   Bp     Sg  Al  Su  Rbc    Pc  Pcc   Ba    Bgr  ...   Pcv   Wbcc  \\\n",
       "0  48.0   50  1.020   4   0    1  1.00  0.0  0.0  121.0  ...  44.0   6000   \n",
       "1   7.0   80  1.010   2   0    1  1.00  0.0  0.0  148.4  ...  38.0   7500   \n",
       "2  62.0   70  1.005   4   3    1  1.00  0.0  0.0  423.0  ...  31.0   6700   \n",
       "3  48.0   80  1.010   2   0    1  0.00  1.0  0.0  117.0  ...  32.0   7300   \n",
       "4  51.0   90  1.015   3   0    1  1.00  0.0  0.0  106.0  ...  35.0   7800   \n",
       "5  60.0   70  1.010   0   0    1  0.76  0.0  0.0   74.0  ...  39.0   8406   \n",
       "6  68.0   76  1.015   2   4    1  1.00  0.0  0.0  100.0  ...  36.0   6900   \n",
       "7  24.0  100  1.015   3   0    1  0.00  0.0  0.0  410.0  ...  44.0   9600   \n",
       "8  52.0   90  1.020   2   0    0  0.00  1.0  0.0  138.0  ...  33.0  12100   \n",
       "9  53.0   60  1.010   2   4    1  0.00  1.0  0.0   70.0  ...  29.0   8406   \n",
       "\n",
       "   Rbcc  Htn  Dm  Cad  Appet   pe  Ane  Class  \n",
       "0  4.71  1.0   1  0.0    1.0  0.0  0.0      1  \n",
       "1  4.71  0.0   0  0.0    1.0  0.0  0.0      1  \n",
       "2  3.90  1.0   1  0.0    0.0  0.0  1.0      1  \n",
       "3  4.60  0.0   0  0.0    0.0  1.0  1.0      1  \n",
       "4  4.40  1.0   0  0.0    1.0  0.0  0.0      1  \n",
       "5  4.71  0.0   1  0.0    1.0  1.0  0.0      1  \n",
       "6  5.00  1.0   0  0.0    1.0  0.0  0.0      1  \n",
       "7  4.00  1.0   1  0.0    1.0  1.0  0.0      1  \n",
       "8  3.70  1.0   1  0.0    1.0  0.0  1.0      1  \n",
       "9  4.71  1.0   1  0.0    0.0  0.0  1.0      1  \n",
       "\n",
       "[10 rows x 25 columns]"
      ]
     },
     "execution_count": 8,
     "metadata": {},
     "output_type": "execute_result"
    }
   ],
   "source": [
    "df.fillna(round(df.mean(),2), inplace=True)\n",
    "df.head(10)"
   ]
  },
  {
   "cell_type": "code",
   "execution_count": 9,
   "metadata": {},
   "outputs": [
    {
     "data": {
      "text/html": [
       "<div>\n",
       "<style scoped>\n",
       "    .dataframe tbody tr th:only-of-type {\n",
       "        vertical-align: middle;\n",
       "    }\n",
       "\n",
       "    .dataframe tbody tr th {\n",
       "        vertical-align: top;\n",
       "    }\n",
       "\n",
       "    .dataframe thead th {\n",
       "        text-align: right;\n",
       "    }\n",
       "</style>\n",
       "<table border=\"1\" class=\"dataframe\">\n",
       "  <thead>\n",
       "    <tr style=\"text-align: right;\">\n",
       "      <th></th>\n",
       "      <th>Age</th>\n",
       "      <th>Bp</th>\n",
       "      <th>Sg</th>\n",
       "      <th>Al</th>\n",
       "      <th>Su</th>\n",
       "      <th>Rbc</th>\n",
       "      <th>Pc</th>\n",
       "      <th>Pcc</th>\n",
       "      <th>Ba</th>\n",
       "      <th>Bgr</th>\n",
       "      <th>...</th>\n",
       "      <th>Pcv</th>\n",
       "      <th>Wbcc</th>\n",
       "      <th>Rbcc</th>\n",
       "      <th>Htn</th>\n",
       "      <th>Dm</th>\n",
       "      <th>Cad</th>\n",
       "      <th>Appet</th>\n",
       "      <th>pe</th>\n",
       "      <th>Ane</th>\n",
       "      <th>Class</th>\n",
       "    </tr>\n",
       "  </thead>\n",
       "  <tbody>\n",
       "    <tr>\n",
       "      <th>count</th>\n",
       "      <td>10321.000000</td>\n",
       "      <td>10321.000000</td>\n",
       "      <td>10321.000000</td>\n",
       "      <td>10321.000000</td>\n",
       "      <td>10321.000000</td>\n",
       "      <td>10321.000000</td>\n",
       "      <td>10321.000000</td>\n",
       "      <td>10321.000000</td>\n",
       "      <td>10321.000000</td>\n",
       "      <td>10321.000000</td>\n",
       "      <td>...</td>\n",
       "      <td>10321.000000</td>\n",
       "      <td>10321.000000</td>\n",
       "      <td>10321.00000</td>\n",
       "      <td>10321.000000</td>\n",
       "      <td>10321.000000</td>\n",
       "      <td>10321.000000</td>\n",
       "      <td>10321.000000</td>\n",
       "      <td>10321.000000</td>\n",
       "      <td>10321.000000</td>\n",
       "      <td>10321.000000</td>\n",
       "    </tr>\n",
       "    <tr>\n",
       "      <th>mean</th>\n",
       "      <td>51.514615</td>\n",
       "      <td>79.623389</td>\n",
       "      <td>1.017653</td>\n",
       "      <td>1.015212</td>\n",
       "      <td>0.395020</td>\n",
       "      <td>0.880632</td>\n",
       "      <td>0.760752</td>\n",
       "      <td>0.119174</td>\n",
       "      <td>0.056196</td>\n",
       "      <td>148.401105</td>\n",
       "      <td>...</td>\n",
       "      <td>38.746028</td>\n",
       "      <td>8403.405872</td>\n",
       "      <td>4.85450</td>\n",
       "      <td>0.365201</td>\n",
       "      <td>0.345122</td>\n",
       "      <td>0.086104</td>\n",
       "      <td>0.792902</td>\n",
       "      <td>0.191933</td>\n",
       "      <td>0.151526</td>\n",
       "      <td>0.622130</td>\n",
       "    </tr>\n",
       "    <tr>\n",
       "      <th>std</th>\n",
       "      <td>16.948027</td>\n",
       "      <td>70.390247</td>\n",
       "      <td>0.005366</td>\n",
       "      <td>1.274018</td>\n",
       "      <td>1.034319</td>\n",
       "      <td>0.324237</td>\n",
       "      <td>0.390480</td>\n",
       "      <td>0.322427</td>\n",
       "      <td>0.229122</td>\n",
       "      <td>74.866057</td>\n",
       "      <td>...</td>\n",
       "      <td>8.085167</td>\n",
       "      <td>2534.277969</td>\n",
       "      <td>2.80735</td>\n",
       "      <td>0.480289</td>\n",
       "      <td>0.475431</td>\n",
       "      <td>0.279795</td>\n",
       "      <td>0.404730</td>\n",
       "      <td>0.393347</td>\n",
       "      <td>0.358130</td>\n",
       "      <td>0.484878</td>\n",
       "    </tr>\n",
       "    <tr>\n",
       "      <th>min</th>\n",
       "      <td>2.000000</td>\n",
       "      <td>0.000000</td>\n",
       "      <td>1.005000</td>\n",
       "      <td>0.000000</td>\n",
       "      <td>0.000000</td>\n",
       "      <td>0.000000</td>\n",
       "      <td>0.000000</td>\n",
       "      <td>0.000000</td>\n",
       "      <td>0.000000</td>\n",
       "      <td>22.000000</td>\n",
       "      <td>...</td>\n",
       "      <td>9.000000</td>\n",
       "      <td>2200.000000</td>\n",
       "      <td>2.10000</td>\n",
       "      <td>0.000000</td>\n",
       "      <td>0.000000</td>\n",
       "      <td>0.000000</td>\n",
       "      <td>0.000000</td>\n",
       "      <td>0.000000</td>\n",
       "      <td>0.000000</td>\n",
       "      <td>0.000000</td>\n",
       "    </tr>\n",
       "    <tr>\n",
       "      <th>25%</th>\n",
       "      <td>42.000000</td>\n",
       "      <td>70.000000</td>\n",
       "      <td>1.015000</td>\n",
       "      <td>0.000000</td>\n",
       "      <td>0.000000</td>\n",
       "      <td>1.000000</td>\n",
       "      <td>0.760000</td>\n",
       "      <td>0.000000</td>\n",
       "      <td>0.000000</td>\n",
       "      <td>101.000000</td>\n",
       "      <td>...</td>\n",
       "      <td>34.000000</td>\n",
       "      <td>7000.000000</td>\n",
       "      <td>4.50000</td>\n",
       "      <td>0.000000</td>\n",
       "      <td>0.000000</td>\n",
       "      <td>0.000000</td>\n",
       "      <td>1.000000</td>\n",
       "      <td>0.000000</td>\n",
       "      <td>0.000000</td>\n",
       "      <td>0.000000</td>\n",
       "    </tr>\n",
       "    <tr>\n",
       "      <th>50%</th>\n",
       "      <td>54.000000</td>\n",
       "      <td>76.000000</td>\n",
       "      <td>1.020000</td>\n",
       "      <td>1.000000</td>\n",
       "      <td>0.000000</td>\n",
       "      <td>1.000000</td>\n",
       "      <td>1.000000</td>\n",
       "      <td>0.000000</td>\n",
       "      <td>0.000000</td>\n",
       "      <td>127.000000</td>\n",
       "      <td>...</td>\n",
       "      <td>38.750000</td>\n",
       "      <td>8406.000000</td>\n",
       "      <td>4.71000</td>\n",
       "      <td>0.000000</td>\n",
       "      <td>0.000000</td>\n",
       "      <td>0.000000</td>\n",
       "      <td>1.000000</td>\n",
       "      <td>0.000000</td>\n",
       "      <td>0.000000</td>\n",
       "      <td>1.000000</td>\n",
       "    </tr>\n",
       "    <tr>\n",
       "      <th>75%</th>\n",
       "      <td>64.000000</td>\n",
       "      <td>80.000000</td>\n",
       "      <td>1.020000</td>\n",
       "      <td>2.000000</td>\n",
       "      <td>0.000000</td>\n",
       "      <td>1.000000</td>\n",
       "      <td>1.000000</td>\n",
       "      <td>0.000000</td>\n",
       "      <td>0.000000</td>\n",
       "      <td>150.000000</td>\n",
       "      <td>...</td>\n",
       "      <td>44.000000</td>\n",
       "      <td>9400.000000</td>\n",
       "      <td>5.10000</td>\n",
       "      <td>1.000000</td>\n",
       "      <td>1.000000</td>\n",
       "      <td>0.000000</td>\n",
       "      <td>1.000000</td>\n",
       "      <td>0.000000</td>\n",
       "      <td>0.000000</td>\n",
       "      <td>1.000000</td>\n",
       "    </tr>\n",
       "    <tr>\n",
       "      <th>max</th>\n",
       "      <td>90.000000</td>\n",
       "      <td>1400.000000</td>\n",
       "      <td>1.026000</td>\n",
       "      <td>5.000000</td>\n",
       "      <td>5.000000</td>\n",
       "      <td>1.000000</td>\n",
       "      <td>1.000000</td>\n",
       "      <td>1.000000</td>\n",
       "      <td>1.000000</td>\n",
       "      <td>490.000000</td>\n",
       "      <td>...</td>\n",
       "      <td>54.000000</td>\n",
       "      <td>26400.000000</td>\n",
       "      <td>58.00000</td>\n",
       "      <td>1.000000</td>\n",
       "      <td>1.000000</td>\n",
       "      <td>1.000000</td>\n",
       "      <td>1.000000</td>\n",
       "      <td>1.000000</td>\n",
       "      <td>1.000000</td>\n",
       "      <td>1.000000</td>\n",
       "    </tr>\n",
       "  </tbody>\n",
       "</table>\n",
       "<p>8 rows × 25 columns</p>\n",
       "</div>"
      ],
      "text/plain": [
       "                Age            Bp            Sg            Al            Su  \\\n",
       "count  10321.000000  10321.000000  10321.000000  10321.000000  10321.000000   \n",
       "mean      51.514615     79.623389      1.017653      1.015212      0.395020   \n",
       "std       16.948027     70.390247      0.005366      1.274018      1.034319   \n",
       "min        2.000000      0.000000      1.005000      0.000000      0.000000   \n",
       "25%       42.000000     70.000000      1.015000      0.000000      0.000000   \n",
       "50%       54.000000     76.000000      1.020000      1.000000      0.000000   \n",
       "75%       64.000000     80.000000      1.020000      2.000000      0.000000   \n",
       "max       90.000000   1400.000000      1.026000      5.000000      5.000000   \n",
       "\n",
       "                Rbc            Pc           Pcc            Ba           Bgr  \\\n",
       "count  10321.000000  10321.000000  10321.000000  10321.000000  10321.000000   \n",
       "mean       0.880632      0.760752      0.119174      0.056196    148.401105   \n",
       "std        0.324237      0.390480      0.322427      0.229122     74.866057   \n",
       "min        0.000000      0.000000      0.000000      0.000000     22.000000   \n",
       "25%        1.000000      0.760000      0.000000      0.000000    101.000000   \n",
       "50%        1.000000      1.000000      0.000000      0.000000    127.000000   \n",
       "75%        1.000000      1.000000      0.000000      0.000000    150.000000   \n",
       "max        1.000000      1.000000      1.000000      1.000000    490.000000   \n",
       "\n",
       "       ...           Pcv          Wbcc         Rbcc           Htn  \\\n",
       "count  ...  10321.000000  10321.000000  10321.00000  10321.000000   \n",
       "mean   ...     38.746028   8403.405872      4.85450      0.365201   \n",
       "std    ...      8.085167   2534.277969      2.80735      0.480289   \n",
       "min    ...      9.000000   2200.000000      2.10000      0.000000   \n",
       "25%    ...     34.000000   7000.000000      4.50000      0.000000   \n",
       "50%    ...     38.750000   8406.000000      4.71000      0.000000   \n",
       "75%    ...     44.000000   9400.000000      5.10000      1.000000   \n",
       "max    ...     54.000000  26400.000000     58.00000      1.000000   \n",
       "\n",
       "                 Dm           Cad         Appet            pe           Ane  \\\n",
       "count  10321.000000  10321.000000  10321.000000  10321.000000  10321.000000   \n",
       "mean       0.345122      0.086104      0.792902      0.191933      0.151526   \n",
       "std        0.475431      0.279795      0.404730      0.393347      0.358130   \n",
       "min        0.000000      0.000000      0.000000      0.000000      0.000000   \n",
       "25%        0.000000      0.000000      1.000000      0.000000      0.000000   \n",
       "50%        0.000000      0.000000      1.000000      0.000000      0.000000   \n",
       "75%        1.000000      0.000000      1.000000      0.000000      0.000000   \n",
       "max        1.000000      1.000000      1.000000      1.000000      1.000000   \n",
       "\n",
       "              Class  \n",
       "count  10321.000000  \n",
       "mean       0.622130  \n",
       "std        0.484878  \n",
       "min        0.000000  \n",
       "25%        0.000000  \n",
       "50%        1.000000  \n",
       "75%        1.000000  \n",
       "max        1.000000  \n",
       "\n",
       "[8 rows x 25 columns]"
      ]
     },
     "execution_count": 9,
     "metadata": {},
     "output_type": "execute_result"
    }
   ],
   "source": [
    "df.describe()"
   ]
  },
  {
   "cell_type": "code",
   "execution_count": 10,
   "metadata": {},
   "outputs": [
    {
     "name": "stdout",
     "output_type": "stream",
     "text": [
      "<class 'pandas.core.frame.DataFrame'>\n",
      "RangeIndex: 10321 entries, 0 to 10320\n",
      "Data columns (total 25 columns):\n",
      " #   Column  Non-Null Count  Dtype  \n",
      "---  ------  --------------  -----  \n",
      " 0   Age     10321 non-null  float64\n",
      " 1   Bp      10321 non-null  int64  \n",
      " 2   Sg      10321 non-null  float64\n",
      " 3   Al      10321 non-null  int64  \n",
      " 4   Su      10321 non-null  int64  \n",
      " 5   Rbc     10321 non-null  int64  \n",
      " 6   Pc      10321 non-null  float64\n",
      " 7   Pcc     10321 non-null  float64\n",
      " 8   Ba      10321 non-null  float64\n",
      " 9   Bgr     10321 non-null  float64\n",
      " 10  Bu      10321 non-null  float64\n",
      " 11  Sc      10321 non-null  float64\n",
      " 12  Sod     10321 non-null  float64\n",
      " 13  Pot     10321 non-null  float64\n",
      " 14  Hemo    10321 non-null  float64\n",
      " 15  Pcv     10321 non-null  float64\n",
      " 16  Wbcc    10321 non-null  int64  \n",
      " 17  Rbcc    10321 non-null  float64\n",
      " 18  Htn     10321 non-null  float64\n",
      " 19  Dm      10321 non-null  int64  \n",
      " 20  Cad     10321 non-null  float64\n",
      " 21  Appet   10321 non-null  float64\n",
      " 22  pe      10321 non-null  float64\n",
      " 23  Ane     10321 non-null  float64\n",
      " 24  Class   10321 non-null  int64  \n",
      "dtypes: float64(18), int64(7)\n",
      "memory usage: 2.0 MB\n"
     ]
    }
   ],
   "source": [
    "df.info()"
   ]
  },
  {
   "cell_type": "code",
   "execution_count": 11,
   "metadata": {},
   "outputs": [
    {
     "data": {
      "text/html": [
       "<div>\n",
       "<style scoped>\n",
       "    .dataframe tbody tr th:only-of-type {\n",
       "        vertical-align: middle;\n",
       "    }\n",
       "\n",
       "    .dataframe tbody tr th {\n",
       "        vertical-align: top;\n",
       "    }\n",
       "\n",
       "    .dataframe thead th {\n",
       "        text-align: right;\n",
       "    }\n",
       "</style>\n",
       "<table border=\"1\" class=\"dataframe\">\n",
       "  <thead>\n",
       "    <tr style=\"text-align: right;\">\n",
       "      <th></th>\n",
       "      <th>Age</th>\n",
       "      <th>Bp</th>\n",
       "      <th>Sg</th>\n",
       "      <th>Al</th>\n",
       "      <th>Su</th>\n",
       "      <th>Rbc</th>\n",
       "      <th>Pc</th>\n",
       "      <th>Pcc</th>\n",
       "      <th>Ba</th>\n",
       "      <th>Bgr</th>\n",
       "      <th>...</th>\n",
       "      <th>Pcv</th>\n",
       "      <th>Wbcc</th>\n",
       "      <th>Rbcc</th>\n",
       "      <th>Htn</th>\n",
       "      <th>Dm</th>\n",
       "      <th>Cad</th>\n",
       "      <th>Appet</th>\n",
       "      <th>pe</th>\n",
       "      <th>Ane</th>\n",
       "      <th>Class</th>\n",
       "    </tr>\n",
       "  </thead>\n",
       "  <tbody>\n",
       "    <tr>\n",
       "      <th>0</th>\n",
       "      <td>48.0</td>\n",
       "      <td>50</td>\n",
       "      <td>1.020</td>\n",
       "      <td>4</td>\n",
       "      <td>0</td>\n",
       "      <td>1</td>\n",
       "      <td>1.00</td>\n",
       "      <td>0.0</td>\n",
       "      <td>0.0</td>\n",
       "      <td>121.0</td>\n",
       "      <td>...</td>\n",
       "      <td>44.0</td>\n",
       "      <td>6000</td>\n",
       "      <td>4.71</td>\n",
       "      <td>1.0</td>\n",
       "      <td>1</td>\n",
       "      <td>0.0</td>\n",
       "      <td>1.0</td>\n",
       "      <td>0.0</td>\n",
       "      <td>0.0</td>\n",
       "      <td>1</td>\n",
       "    </tr>\n",
       "    <tr>\n",
       "      <th>1</th>\n",
       "      <td>7.0</td>\n",
       "      <td>80</td>\n",
       "      <td>1.010</td>\n",
       "      <td>2</td>\n",
       "      <td>0</td>\n",
       "      <td>1</td>\n",
       "      <td>1.00</td>\n",
       "      <td>0.0</td>\n",
       "      <td>0.0</td>\n",
       "      <td>148.4</td>\n",
       "      <td>...</td>\n",
       "      <td>38.0</td>\n",
       "      <td>7500</td>\n",
       "      <td>4.71</td>\n",
       "      <td>0.0</td>\n",
       "      <td>0</td>\n",
       "      <td>0.0</td>\n",
       "      <td>1.0</td>\n",
       "      <td>0.0</td>\n",
       "      <td>0.0</td>\n",
       "      <td>1</td>\n",
       "    </tr>\n",
       "    <tr>\n",
       "      <th>2</th>\n",
       "      <td>62.0</td>\n",
       "      <td>70</td>\n",
       "      <td>1.005</td>\n",
       "      <td>4</td>\n",
       "      <td>3</td>\n",
       "      <td>1</td>\n",
       "      <td>1.00</td>\n",
       "      <td>0.0</td>\n",
       "      <td>0.0</td>\n",
       "      <td>423.0</td>\n",
       "      <td>...</td>\n",
       "      <td>31.0</td>\n",
       "      <td>6700</td>\n",
       "      <td>3.90</td>\n",
       "      <td>1.0</td>\n",
       "      <td>1</td>\n",
       "      <td>0.0</td>\n",
       "      <td>0.0</td>\n",
       "      <td>0.0</td>\n",
       "      <td>1.0</td>\n",
       "      <td>1</td>\n",
       "    </tr>\n",
       "    <tr>\n",
       "      <th>3</th>\n",
       "      <td>48.0</td>\n",
       "      <td>80</td>\n",
       "      <td>1.010</td>\n",
       "      <td>2</td>\n",
       "      <td>0</td>\n",
       "      <td>1</td>\n",
       "      <td>0.00</td>\n",
       "      <td>1.0</td>\n",
       "      <td>0.0</td>\n",
       "      <td>117.0</td>\n",
       "      <td>...</td>\n",
       "      <td>32.0</td>\n",
       "      <td>7300</td>\n",
       "      <td>4.60</td>\n",
       "      <td>0.0</td>\n",
       "      <td>0</td>\n",
       "      <td>0.0</td>\n",
       "      <td>0.0</td>\n",
       "      <td>1.0</td>\n",
       "      <td>1.0</td>\n",
       "      <td>1</td>\n",
       "    </tr>\n",
       "    <tr>\n",
       "      <th>4</th>\n",
       "      <td>51.0</td>\n",
       "      <td>90</td>\n",
       "      <td>1.015</td>\n",
       "      <td>3</td>\n",
       "      <td>0</td>\n",
       "      <td>1</td>\n",
       "      <td>1.00</td>\n",
       "      <td>0.0</td>\n",
       "      <td>0.0</td>\n",
       "      <td>106.0</td>\n",
       "      <td>...</td>\n",
       "      <td>35.0</td>\n",
       "      <td>7800</td>\n",
       "      <td>4.40</td>\n",
       "      <td>1.0</td>\n",
       "      <td>0</td>\n",
       "      <td>0.0</td>\n",
       "      <td>1.0</td>\n",
       "      <td>0.0</td>\n",
       "      <td>0.0</td>\n",
       "      <td>1</td>\n",
       "    </tr>\n",
       "    <tr>\n",
       "      <th>5</th>\n",
       "      <td>60.0</td>\n",
       "      <td>70</td>\n",
       "      <td>1.010</td>\n",
       "      <td>0</td>\n",
       "      <td>0</td>\n",
       "      <td>1</td>\n",
       "      <td>0.76</td>\n",
       "      <td>0.0</td>\n",
       "      <td>0.0</td>\n",
       "      <td>74.0</td>\n",
       "      <td>...</td>\n",
       "      <td>39.0</td>\n",
       "      <td>8406</td>\n",
       "      <td>4.71</td>\n",
       "      <td>0.0</td>\n",
       "      <td>1</td>\n",
       "      <td>0.0</td>\n",
       "      <td>1.0</td>\n",
       "      <td>1.0</td>\n",
       "      <td>0.0</td>\n",
       "      <td>1</td>\n",
       "    </tr>\n",
       "    <tr>\n",
       "      <th>6</th>\n",
       "      <td>68.0</td>\n",
       "      <td>76</td>\n",
       "      <td>1.015</td>\n",
       "      <td>2</td>\n",
       "      <td>4</td>\n",
       "      <td>1</td>\n",
       "      <td>1.00</td>\n",
       "      <td>0.0</td>\n",
       "      <td>0.0</td>\n",
       "      <td>100.0</td>\n",
       "      <td>...</td>\n",
       "      <td>36.0</td>\n",
       "      <td>6900</td>\n",
       "      <td>5.00</td>\n",
       "      <td>1.0</td>\n",
       "      <td>0</td>\n",
       "      <td>0.0</td>\n",
       "      <td>1.0</td>\n",
       "      <td>0.0</td>\n",
       "      <td>0.0</td>\n",
       "      <td>1</td>\n",
       "    </tr>\n",
       "    <tr>\n",
       "      <th>7</th>\n",
       "      <td>24.0</td>\n",
       "      <td>100</td>\n",
       "      <td>1.015</td>\n",
       "      <td>3</td>\n",
       "      <td>0</td>\n",
       "      <td>1</td>\n",
       "      <td>0.00</td>\n",
       "      <td>0.0</td>\n",
       "      <td>0.0</td>\n",
       "      <td>410.0</td>\n",
       "      <td>...</td>\n",
       "      <td>44.0</td>\n",
       "      <td>9600</td>\n",
       "      <td>4.00</td>\n",
       "      <td>1.0</td>\n",
       "      <td>1</td>\n",
       "      <td>0.0</td>\n",
       "      <td>1.0</td>\n",
       "      <td>1.0</td>\n",
       "      <td>0.0</td>\n",
       "      <td>1</td>\n",
       "    </tr>\n",
       "    <tr>\n",
       "      <th>8</th>\n",
       "      <td>52.0</td>\n",
       "      <td>90</td>\n",
       "      <td>1.020</td>\n",
       "      <td>2</td>\n",
       "      <td>0</td>\n",
       "      <td>0</td>\n",
       "      <td>0.00</td>\n",
       "      <td>1.0</td>\n",
       "      <td>0.0</td>\n",
       "      <td>138.0</td>\n",
       "      <td>...</td>\n",
       "      <td>33.0</td>\n",
       "      <td>12100</td>\n",
       "      <td>3.70</td>\n",
       "      <td>1.0</td>\n",
       "      <td>1</td>\n",
       "      <td>0.0</td>\n",
       "      <td>1.0</td>\n",
       "      <td>0.0</td>\n",
       "      <td>1.0</td>\n",
       "      <td>1</td>\n",
       "    </tr>\n",
       "    <tr>\n",
       "      <th>9</th>\n",
       "      <td>53.0</td>\n",
       "      <td>60</td>\n",
       "      <td>1.010</td>\n",
       "      <td>2</td>\n",
       "      <td>4</td>\n",
       "      <td>1</td>\n",
       "      <td>0.00</td>\n",
       "      <td>1.0</td>\n",
       "      <td>0.0</td>\n",
       "      <td>70.0</td>\n",
       "      <td>...</td>\n",
       "      <td>29.0</td>\n",
       "      <td>8406</td>\n",
       "      <td>4.71</td>\n",
       "      <td>1.0</td>\n",
       "      <td>1</td>\n",
       "      <td>0.0</td>\n",
       "      <td>0.0</td>\n",
       "      <td>0.0</td>\n",
       "      <td>1.0</td>\n",
       "      <td>1</td>\n",
       "    </tr>\n",
       "  </tbody>\n",
       "</table>\n",
       "<p>10 rows × 25 columns</p>\n",
       "</div>"
      ],
      "text/plain": [
       "    Age   Bp     Sg  Al  Su  Rbc    Pc  Pcc   Ba    Bgr  ...   Pcv   Wbcc  \\\n",
       "0  48.0   50  1.020   4   0    1  1.00  0.0  0.0  121.0  ...  44.0   6000   \n",
       "1   7.0   80  1.010   2   0    1  1.00  0.0  0.0  148.4  ...  38.0   7500   \n",
       "2  62.0   70  1.005   4   3    1  1.00  0.0  0.0  423.0  ...  31.0   6700   \n",
       "3  48.0   80  1.010   2   0    1  0.00  1.0  0.0  117.0  ...  32.0   7300   \n",
       "4  51.0   90  1.015   3   0    1  1.00  0.0  0.0  106.0  ...  35.0   7800   \n",
       "5  60.0   70  1.010   0   0    1  0.76  0.0  0.0   74.0  ...  39.0   8406   \n",
       "6  68.0   76  1.015   2   4    1  1.00  0.0  0.0  100.0  ...  36.0   6900   \n",
       "7  24.0  100  1.015   3   0    1  0.00  0.0  0.0  410.0  ...  44.0   9600   \n",
       "8  52.0   90  1.020   2   0    0  0.00  1.0  0.0  138.0  ...  33.0  12100   \n",
       "9  53.0   60  1.010   2   4    1  0.00  1.0  0.0   70.0  ...  29.0   8406   \n",
       "\n",
       "   Rbcc  Htn  Dm  Cad  Appet   pe  Ane  Class  \n",
       "0  4.71  1.0   1  0.0    1.0  0.0  0.0      1  \n",
       "1  4.71  0.0   0  0.0    1.0  0.0  0.0      1  \n",
       "2  3.90  1.0   1  0.0    0.0  0.0  1.0      1  \n",
       "3  4.60  0.0   0  0.0    0.0  1.0  1.0      1  \n",
       "4  4.40  1.0   0  0.0    1.0  0.0  0.0      1  \n",
       "5  4.71  0.0   1  0.0    1.0  1.0  0.0      1  \n",
       "6  5.00  1.0   0  0.0    1.0  0.0  0.0      1  \n",
       "7  4.00  1.0   1  0.0    1.0  1.0  0.0      1  \n",
       "8  3.70  1.0   1  0.0    1.0  0.0  1.0      1  \n",
       "9  4.71  1.0   1  0.0    0.0  0.0  1.0      1  \n",
       "\n",
       "[10 rows x 25 columns]"
      ]
     },
     "execution_count": 11,
     "metadata": {},
     "output_type": "execute_result"
    }
   ],
   "source": [
    "df = df[['Age', 'Bp', 'Sg', 'Al', 'Su', 'Rbc', 'Pc', 'Pcc', 'Ba','Bgr', 'Bu', 'Sc', 'Sod', 'Pot', 'Hemo', 'Pcv', 'Wbcc', 'Rbcc', 'Htn', 'Dm', 'Cad', 'Appet', 'pe', 'Ane', 'Class']]\n",
    "df['Class'] = df['Class'].astype('int')\n",
    "df.head(10)"
   ]
  },
  {
   "cell_type": "markdown",
   "metadata": {},
   "source": [
    "### Define X and Y for Implement Models"
   ]
  },
  {
   "cell_type": "code",
   "execution_count": 12,
   "metadata": {},
   "outputs": [
    {
     "data": {
      "text/plain": [
       "array([[4.8000e+01, 5.0000e+01, 1.0200e+00, 4.0000e+00, 0.0000e+00,\n",
       "        1.0000e+00, 1.0000e+00, 0.0000e+00, 0.0000e+00, 1.2100e+02,\n",
       "        1.8000e+01, 1.2000e+00, 1.3753e+02, 4.6300e+00, 1.1300e+01,\n",
       "        4.4000e+01, 6.0000e+03, 4.7100e+00, 1.0000e+00, 1.0000e+00,\n",
       "        0.0000e+00, 1.0000e+00, 0.0000e+00, 0.0000e+00],\n",
       "       [7.0000e+00, 8.0000e+01, 1.0100e+00, 2.0000e+00, 0.0000e+00,\n",
       "        1.0000e+00, 1.0000e+00, 0.0000e+00, 0.0000e+00, 1.4840e+02,\n",
       "        5.3000e+01, 8.0000e-01, 1.3753e+02, 4.6300e+00, 9.6000e+00,\n",
       "        3.8000e+01, 7.5000e+03, 4.7100e+00, 0.0000e+00, 0.0000e+00,\n",
       "        0.0000e+00, 1.0000e+00, 0.0000e+00, 0.0000e+00],\n",
       "       [6.2000e+01, 7.0000e+01, 1.0050e+00, 4.0000e+00, 3.0000e+00,\n",
       "        1.0000e+00, 1.0000e+00, 0.0000e+00, 0.0000e+00, 4.2300e+02,\n",
       "        5.6000e+01, 1.8000e+00, 1.3753e+02, 4.6300e+00, 1.1200e+01,\n",
       "        3.1000e+01, 6.7000e+03, 3.9000e+00, 1.0000e+00, 1.0000e+00,\n",
       "        0.0000e+00, 0.0000e+00, 0.0000e+00, 1.0000e+00],\n",
       "       [4.8000e+01, 8.0000e+01, 1.0100e+00, 2.0000e+00, 0.0000e+00,\n",
       "        1.0000e+00, 0.0000e+00, 1.0000e+00, 0.0000e+00, 1.1700e+02,\n",
       "        2.6000e+01, 3.8000e+00, 1.1100e+02, 2.5000e+00, 1.1600e+01,\n",
       "        3.2000e+01, 7.3000e+03, 4.6000e+00, 0.0000e+00, 0.0000e+00,\n",
       "        0.0000e+00, 0.0000e+00, 1.0000e+00, 1.0000e+00],\n",
       "       [5.1000e+01, 9.0000e+01, 1.0150e+00, 3.0000e+00, 0.0000e+00,\n",
       "        1.0000e+00, 1.0000e+00, 0.0000e+00, 0.0000e+00, 1.0600e+02,\n",
       "        2.5000e+01, 1.4000e+00, 1.3753e+02, 4.6300e+00, 1.2200e+01,\n",
       "        3.5000e+01, 7.8000e+03, 4.4000e+00, 1.0000e+00, 0.0000e+00,\n",
       "        0.0000e+00, 1.0000e+00, 0.0000e+00, 0.0000e+00]])"
      ]
     },
     "execution_count": 12,
     "metadata": {},
     "output_type": "execute_result"
    }
   ],
   "source": [
    "X = np.asarray(df[['Age', 'Bp', 'Sg', 'Al', 'Su', 'Rbc', 'Pc', 'Pcc', 'Ba','Bgr', 'Bu', 'Sc', 'Sod', 'Pot', 'Hemo', 'Pcv', 'Wbcc', 'Rbcc', 'Htn', 'Dm', 'Cad', 'Appet', 'pe', 'Ane']])\n",
    "X[0:5]"
   ]
  },
  {
   "cell_type": "code",
   "execution_count": 13,
   "metadata": {},
   "outputs": [
    {
     "data": {
      "text/plain": [
       "array([1, 1, 1, 1, 1])"
      ]
     },
     "execution_count": 13,
     "metadata": {},
     "output_type": "execute_result"
    }
   ],
   "source": [
    "y = np.asarray(df['Class'])\n",
    "y[0:5]"
   ]
  },
  {
   "cell_type": "markdown",
   "metadata": {},
   "source": [
    "### Normalize Dataset"
   ]
  },
  {
   "cell_type": "code",
   "execution_count": 14,
   "metadata": {},
   "outputs": [
    {
     "data": {
      "text/plain": [
       "array([[-2.07386096e-01, -4.20865468e-01,  4.37455312e-01,\n",
       "         2.34292877e+00, -3.81931407e-01,  3.68169071e-01,\n",
       "         6.12732660e-01, -3.69635465e-01, -2.45279430e-01,\n",
       "        -3.66019438e-01, -8.00563357e-01, -3.46683075e-01,\n",
       "        -7.46672415e-02,  2.70190603e-01, -4.11201276e-01,\n",
       "         6.49860071e-01, -9.48405164e-01, -5.14743698e-02,\n",
       "         1.32176709e+00,  1.37750843e+00, -3.07754995e-01,\n",
       "         5.11719252e-01, -4.87971618e-01, -4.23123847e-01],\n",
       "       [-2.62666396e+00,  5.35058554e-03, -1.42608121e+00,\n",
       "         7.73015907e-01, -3.81931407e-01,  3.68169071e-01,\n",
       "         6.12732660e-01, -3.69635465e-01, -2.45279430e-01,\n",
       "        -1.47543185e-05, -9.52820440e-02, -4.21996414e-01,\n",
       "        -7.46672415e-02,  2.70190603e-01, -1.01282485e+00,\n",
       "        -9.22756060e-02, -3.56491928e-01, -5.14743698e-02,\n",
       "        -7.60415122e-01, -7.25948370e-01, -3.07754995e-01,\n",
       "         5.11719252e-01, -4.87971618e-01, -4.23123847e-01],\n",
       "       [ 6.18708784e-01, -1.36721432e-01, -2.35784946e+00,\n",
       "         2.34292877e+00,  2.51866760e+00,  3.68169071e-01,\n",
       "         6.12732660e-01, -3.69635465e-01, -2.45279430e-01,\n",
       "         3.66804679e+00, -3.48293600e-02, -2.33713067e-01,\n",
       "        -7.46672415e-02,  2.70190603e-01, -4.46590898e-01,\n",
       "        -9.58100562e-01, -6.72178987e-01, -3.40016691e-01,\n",
       "         1.32176709e+00,  1.37750843e+00, -3.07754995e-01,\n",
       "        -1.95918284e+00, -4.87971618e-01,  2.36929333e+00],\n",
       "       [-2.07386096e-01,  5.35058554e-03, -1.42608121e+00,\n",
       "         7.73015907e-01, -3.81931407e-01,  3.68169071e-01,\n",
       "        -1.94834336e+00,  2.73199676e+00, -2.45279430e-01,\n",
       "        -4.19450779e-01, -6.39356200e-01,  1.42853628e-01,\n",
       "        -3.79372863e-01, -2.66349172e+00, -3.05032411e-01,\n",
       "        -8.34411283e-01, -4.35413693e-01, -9.06591294e-02,\n",
       "        -7.60415122e-01, -7.25948370e-01, -3.07754995e-01,\n",
       "        -1.95918284e+00,  2.05443505e+00,  2.36929333e+00],\n",
       "       [-3.03657645e-02,  1.47422603e-01, -4.94312947e-01,\n",
       "         1.55797234e+00, -3.81931407e-01,  3.68169071e-01,\n",
       "         6.12732660e-01, -3.69635465e-01, -2.45279430e-01,\n",
       "        -5.66386966e-01, -6.59507094e-01, -3.09026406e-01,\n",
       "        -7.46672415e-02,  2.70190603e-01, -9.26946808e-02,\n",
       "        -4.63343444e-01, -2.38109281e-01, -1.61904147e-01,\n",
       "         1.32176709e+00, -7.25948370e-01, -3.07754995e-01,\n",
       "         5.11719252e-01, -4.87971618e-01, -4.23123847e-01]])"
      ]
     },
     "execution_count": 14,
     "metadata": {},
     "output_type": "execute_result"
    }
   ],
   "source": [
    "X = preprocessing.StandardScaler().fit(X).transform(X)\n",
    "X[0:5]"
   ]
  },
  {
   "cell_type": "markdown",
   "metadata": {},
   "source": [
    "## Spliting for Train & Test Dataset"
   ]
  },
  {
   "cell_type": "code",
   "execution_count": 15,
   "metadata": {},
   "outputs": [
    {
     "name": "stdout",
     "output_type": "stream",
     "text": [
      "Train set: (8256, 24) (8256,)\n",
      "Test set: (2065, 24) (2065,)\n"
     ]
    }
   ],
   "source": [
    "X_train, X_test, y_train, y_test = train_test_split( X, y, test_size=0.2, random_state=4)\n",
    "print ('Train set:', X_train.shape,  y_train.shape)\n",
    "print ('Test set:', X_test.shape,  y_test.shape)"
   ]
  },
  {
   "cell_type": "markdown",
   "metadata": {},
   "source": [
    "## Logistic Regression"
   ]
  },
  {
   "cell_type": "code",
   "execution_count": 16,
   "metadata": {},
   "outputs": [
    {
     "name": "stdout",
     "output_type": "stream",
     "text": [
      "Logistic Regression Accuracy:  94.04\n"
     ]
    }
   ],
   "source": [
    "logreg = LogisticRegression()\n",
    "logreg.fit(X_train, y_train)\n",
    "Y_pred_lr = logreg.predict(X_test)\n",
    "acc_log = round(logreg.score(X_test,y_test) * 100, 2)\n",
    "print(\"Logistic Regression Accuracy: \", acc_log)"
   ]
  },
  {
   "cell_type": "code",
   "execution_count": 17,
   "metadata": {},
   "outputs": [
    {
     "name": "stdout",
     "output_type": "stream",
     "text": [
      "Cross Validated Score: 94.1\n"
     ]
    }
   ],
   "source": [
    "cvs_lr = round((cross_val_score(logreg, X,y,cv=10,scoring='accuracy')).mean()*100,2)\n",
    "print('Cross Validated Score:', cvs_lr)"
   ]
  },
  {
   "cell_type": "code",
   "execution_count": 18,
   "metadata": {},
   "outputs": [
    {
     "name": "stdout",
     "output_type": "stream",
     "text": [
      "Classificiation Report: \n",
      "               precision    recall  f1-score   support\n",
      "\n",
      "           0       0.93      0.91      0.92       772\n",
      "           1       0.95      0.96      0.95      1293\n",
      "\n",
      "    accuracy                           0.94      2065\n",
      "   macro avg       0.94      0.93      0.94      2065\n",
      "weighted avg       0.94      0.94      0.94      2065\n",
      "\n"
     ]
    }
   ],
   "source": [
    "class_report = classification_report(y_test, Y_pred_lr)\n",
    "print(\"Classificiation Report: \\n\", class_report)"
   ]
  },
  {
   "cell_type": "code",
   "execution_count": 19,
   "metadata": {},
   "outputs": [
    {
     "data": {
      "text/plain": [
       "Text(0.5, 1.05, 'Confusion Matrix (Logistic Regression)')"
      ]
     },
     "execution_count": 19,
     "metadata": {},
     "output_type": "execute_result"
    },
    {
     "data": {
      "image/png": "[encoded data removed]",
      "text/plain": [
       "<Figure size 432x288 with 2 Axes>"
      ]
     },
     "metadata": {
      "needs_background": "light"
     },
     "output_type": "display_data"
    }
   ],
   "source": [
    "cnf_matrix = confusion_matrix(y_test, Y_pred_lr, labels=[1,0])\n",
    "sns.heatmap(cnf_matrix,annot=True,fmt='3.0f',cmap=\"summer\")\n",
    "plt.title('Confusion Matrix (Logistic Regression)', y=1.05, size=15)"
   ]
  },
  {
   "cell_type": "code",
   "execution_count": 20,
   "metadata": {},
   "outputs": [
    {
     "name": "stdout",
     "output_type": "stream",
     "text": [
      "Jaccard Score:  85.14\n"
     ]
    }
   ],
   "source": [
    "jac_score_logreg = round(jaccard_score(y_test, Y_pred_lr, pos_label=0) * 100, 2)\n",
    "print(\"Jaccard Score: \", jac_score_logreg)"
   ]
  },
  {
   "cell_type": "code",
   "execution_count": 21,
   "metadata": {},
   "outputs": [
    {
     "name": "stdout",
     "output_type": "stream",
     "text": [
      "Attribute: 0, Score: 0.07557\n",
      "Attribute: 1, Score: 0.04297\n",
      "Attribute: 2, Score: -0.01694\n",
      "Attribute: 3, Score: 0.03239\n",
      "Attribute: 4, Score: 0.00864\n",
      "Attribute: 5, Score: -0.02106\n",
      "Attribute: 6, Score: 0.02850\n",
      "Attribute: 7, Score: -0.00889\n",
      "Attribute: 8, Score: 0.03948\n",
      "Attribute: 9, Score: -0.04264\n",
      "Attribute: 10, Score: -0.07015\n",
      "Attribute: 11, Score: -0.01995\n",
      "Attribute: 12, Score: -0.00714\n",
      "Attribute: 13, Score: 0.02034\n",
      "Attribute: 14, Score: -3.32391\n",
      "Attribute: 15, Score: -0.08325\n",
      "Attribute: 16, Score: 0.05221\n",
      "Attribute: 17, Score: -4.10634\n",
      "Attribute: 18, Score: 2.98574\n",
      "Attribute: 19, Score: 0.15624\n",
      "Attribute: 20, Score: 0.07053\n",
      "Attribute: 21, Score: -0.00920\n",
      "Attribute: 22, Score: -0.06433\n",
      "Attribute: 23, Score: 0.03380\n"
     ]
    },
    {
     "data": {
      "image/png": "[encoded data removed]",
      "text/plain": [
       "<Figure size 432x288 with 1 Axes>"
      ]
     },
     "metadata": {
      "needs_background": "light"
     },
     "output_type": "display_data"
    },
    {
     "name": "stdout",
     "output_type": "stream",
     "text": [
      "Standard Daviation of Feature Importance 1.23\n"
     ]
    }
   ],
   "source": [
    "importance_lr = logreg.coef_[0]\n",
    "for i,v in enumerate(importance_lr):\n",
    "    print('Attribute: %0d, Score: %.5f' % (i,v))\n",
    "plt.bar([x for x in range(len(importance_lr))], importance_lr)\n",
    "plt.show()\n",
    "std_lr = round(np.std(importance_lr), 2)\n",
    "print(\"Standard Daviation of Feature Importance\", std_lr)"
   ]
  },
  {
   "cell_type": "markdown",
   "metadata": {},
   "source": [
    "## Creating a logistic_reg1.sav"
   ]
  },
  {
   "cell_type": "code",
   "execution_count": 89,
   "metadata": {},
   "outputs": [],
   "source": [
    "import pickle\n",
    "import os\n",
    "#Saving the model\n",
    "if not os.path.exists('models'):\n",
    "    os.makedirs('models')\n",
    "    \n",
    "MODEL_PATH = \"models/logistic_reg.sav\"\n",
    "pickle.dump(logreg, open(MODEL_PATH, 'wb'))"
   ]
  },
  {
   "cell_type": "code",
   "execution_count": 88,
   "metadata": {},
   "outputs": [
    {
     "data": {
      "text/plain": [
       "array([1])"
      ]
     },
     "execution_count": 88,
     "metadata": {},
     "output_type": "execute_result"
    }
   ],
   "source": [
    "# initialize list of lists \n",
    "data = [[48,50,1.02,4,0,1,1,0,0,121,18,1.2,137.53,4.63,11.3,44,6000,4.71,1,1,0,1,0,0]] \n",
    "  \n",
    "# Create the pandas DataFrame \n",
    "df = pd.DataFrame(data, columns = ['Age', 'Bp', 'Sg', 'Al', 'Su', 'Rbc', 'Pc', 'Pcc', 'Ba','Bgr', 'Bu', 'Sc', 'Sod', 'Pot', 'Hemo', 'Pcv', 'Wbcc', 'Rbcc', 'Htn', 'Dm', 'Cad', 'Appet', 'pe', 'Ane']) \n",
    "\n",
    "#Predict On new Data\n",
    "new_pred = logreg.predict(df)\n",
    "new_pred"
   ]
  },
  {
   "cell_type": "code",
   "execution_count": null,
   "metadata": {},
   "outputs": [],
   "source": []
  },
  {
   "cell_type": "markdown",
   "metadata": {},
   "source": [
    "## Support Vector Machines"
   ]
  },
  {
   "cell_type": "code",
   "execution_count": 24,
   "metadata": {},
   "outputs": [
    {
     "name": "stdout",
     "output_type": "stream",
     "text": [
      "Support Vector Machines Accuracy:  93.46\n"
     ]
    }
   ],
   "source": [
    "svc = SVC()\n",
    "svc.fit(X_train, y_train)\n",
    "Y_pred_svm = svc.predict(X_test)\n",
    "acc_svc = round(svc.score(X_test,y_test) * 100, 2)\n",
    "print(\"Support Vector Machines Accuracy: \", acc_svc)"
   ]
  },
  {
   "cell_type": "code",
   "execution_count": 25,
   "metadata": {},
   "outputs": [
    {
     "name": "stdout",
     "output_type": "stream",
     "text": [
      "Cross Validated Score: 93.53\n"
     ]
    }
   ],
   "source": [
    "cvs_svm = round((cross_val_score(svc, X,y,cv=10,scoring='accuracy')).mean()*100,2)\n",
    "print('Cross Validated Score:', cvs_svm)"
   ]
  },
  {
   "cell_type": "code",
   "execution_count": 26,
   "metadata": {},
   "outputs": [
    {
     "name": "stdout",
     "output_type": "stream",
     "text": [
      "Classificiation Report: \n",
      "               precision    recall  f1-score   support\n",
      "\n",
      "           0       0.92      0.91      0.91       772\n",
      "           1       0.95      0.95      0.95      1293\n",
      "\n",
      "    accuracy                           0.93      2065\n",
      "   macro avg       0.93      0.93      0.93      2065\n",
      "weighted avg       0.93      0.93      0.93      2065\n",
      "\n"
     ]
    }
   ],
   "source": [
    "class_report = classification_report(y_test, Y_pred_svm)\n",
    "print(\"Classificiation Report: \\n\", class_report)"
   ]
  },
  {
   "cell_type": "code",
   "execution_count": 27,
   "metadata": {},
   "outputs": [
    {
     "data": {
      "text/plain": [
       "Text(0.5, 1.05, 'Confusion Matrix (Support Vector Machines)')"
      ]
     },
     "execution_count": 27,
     "metadata": {},
     "output_type": "execute_result"
    },
    {
     "data": {
      "image/png": "[encoded data removed]",
      "text/plain": [
       "<Figure size 432x288 with 2 Axes>"
      ]
     },
     "metadata": {
      "needs_background": "light"
     },
     "output_type": "display_data"
    }
   ],
   "source": [
    "cnf_matrix = confusion_matrix(y_test, Y_pred_svm, labels=[1,0])\n",
    "sns.heatmap(cnf_matrix,annot=True,fmt='3.0f',cmap=\"summer\")\n",
    "plt.title('Confusion Matrix (Support Vector Machines)', y=1.05, size=15)"
   ]
  },
  {
   "cell_type": "code",
   "execution_count": 28,
   "metadata": {},
   "outputs": [
    {
     "name": "stdout",
     "output_type": "stream",
     "text": [
      "Jaccard Score:  83.87\n"
     ]
    }
   ],
   "source": [
    "jac_score_svm = round(jaccard_score(y_test, Y_pred_svm, pos_label=0) * 100, 2)\n",
    "print(\"Jaccard Score: \", jac_score_svm)"
   ]
  },
  {
   "cell_type": "markdown",
   "metadata": {},
   "source": [
    "### K - Nearest Neighbours"
   ]
  },
  {
   "cell_type": "code",
   "execution_count": 29,
   "metadata": {},
   "outputs": [
    {
     "name": "stdout",
     "output_type": "stream",
     "text": [
      "K - Nearest Neighbours Accuracy:  88.62\n"
     ]
    }
   ],
   "source": [
    "knn = KNeighborsClassifier(n_neighbors = 19)\n",
    "knn.fit(X_train, y_train)\n",
    "Y_pred_knn = knn.predict(X_test)\n",
    "acc_knn = round(knn.score(X_test,y_test) * 100, 2)\n",
    "print(\"K - Nearest Neighbours Accuracy: \", acc_knn)"
   ]
  },
  {
   "cell_type": "code",
   "execution_count": 30,
   "metadata": {},
   "outputs": [
    {
     "name": "stdout",
     "output_type": "stream",
     "text": [
      "Cross Validated Score: 87.71\n"
     ]
    }
   ],
   "source": [
    "cvs_knn = round((cross_val_score(knn, X,y,cv=10,scoring='accuracy')).mean()*100,2)\n",
    "print('Cross Validated Score:', cvs_knn)"
   ]
  },
  {
   "cell_type": "code",
   "execution_count": 31,
   "metadata": {},
   "outputs": [
    {
     "name": "stdout",
     "output_type": "stream",
     "text": [
      "Classificiation Report: \n",
      "               precision    recall  f1-score   support\n",
      "\n",
      "           0       0.83      0.88      0.85       772\n",
      "           1       0.92      0.89      0.91      1293\n",
      "\n",
      "    accuracy                           0.89      2065\n",
      "   macro avg       0.88      0.88      0.88      2065\n",
      "weighted avg       0.89      0.89      0.89      2065\n",
      "\n"
     ]
    }
   ],
   "source": [
    "class_report = classification_report(y_test, Y_pred_knn)\n",
    "print(\"Classificiation Report: \\n\", class_report)"
   ]
  },
  {
   "cell_type": "code",
   "execution_count": 32,
   "metadata": {},
   "outputs": [
    {
     "data": {
      "text/plain": [
       "Text(0.5, 1.05, 'Confusion Matrix (K - Nearest Neighbours)')"
      ]
     },
     "execution_count": 32,
     "metadata": {},
     "output_type": "execute_result"
    },
    {
     "data": {
      "image/png": "[encoded data removed]",
      "text/plain": [
       "<Figure size 432x288 with 2 Axes>"
      ]
     },
     "metadata": {
      "needs_background": "light"
     },
     "output_type": "display_data"
    }
   ],
   "source": [
    "cnf_matrix = confusion_matrix(y_test, Y_pred_knn, labels=[1,0])\n",
    "sns.heatmap(cnf_matrix,annot=True,fmt='3.0f',cmap=\"summer\")\n",
    "plt.title('Confusion Matrix (K - Nearest Neighbours)', y=1.05, size=15)"
   ]
  },
  {
   "cell_type": "code",
   "execution_count": 33,
   "metadata": {},
   "outputs": [
    {
     "name": "stdout",
     "output_type": "stream",
     "text": [
      "Jaccard Score:  74.23\n"
     ]
    }
   ],
   "source": [
    "jac_score_knn = round(jaccard_score(y_test, Y_pred_knn, pos_label=0) * 100, 2)\n",
    "print(\"Jaccard Score: \", jac_score_knn)"
   ]
  },
  {
   "cell_type": "markdown",
   "metadata": {},
   "source": [
    "## Gaussian Naive Bayes"
   ]
  },
  {
   "cell_type": "code",
   "execution_count": 34,
   "metadata": {},
   "outputs": [
    {
     "name": "stdout",
     "output_type": "stream",
     "text": [
      "Gaussian Naive Bayes Accuracy:  86.0\n"
     ]
    }
   ],
   "source": [
    "gaussian = GaussianNB()\n",
    "gaussian.fit(X_train, y_train)\n",
    "Y_pred_gnb = gaussian.predict(X_test)\n",
    "acc_gaussian = round(gaussian.score(X_test,y_test) * 100, 2)\n",
    "print(\"Gaussian Naive Bayes Accuracy: \", acc_gaussian)"
   ]
  },
  {
   "cell_type": "code",
   "execution_count": 35,
   "metadata": {},
   "outputs": [
    {
     "name": "stdout",
     "output_type": "stream",
     "text": [
      "Cross Validated Score: 85.45\n"
     ]
    }
   ],
   "source": [
    "cvs_gnb = round((cross_val_score(gaussian, X,y,cv=10,scoring='accuracy')).mean()*100,2)\n",
    "print('Cross Validated Score:', cvs_gnb)"
   ]
  },
  {
   "cell_type": "code",
   "execution_count": 36,
   "metadata": {},
   "outputs": [
    {
     "name": "stdout",
     "output_type": "stream",
     "text": [
      "Classificiation Report: \n",
      "               precision    recall  f1-score   support\n",
      "\n",
      "           0       0.75      0.94      0.83       772\n",
      "           1       0.96      0.81      0.88      1293\n",
      "\n",
      "    accuracy                           0.86      2065\n",
      "   macro avg       0.85      0.88      0.86      2065\n",
      "weighted avg       0.88      0.86      0.86      2065\n",
      "\n"
     ]
    }
   ],
   "source": [
    "class_report = classification_report(y_test, Y_pred_gnb)\n",
    "print(\"Classificiation Report: \\n\", class_report)"
   ]
  },
  {
   "cell_type": "code",
   "execution_count": 37,
   "metadata": {},
   "outputs": [
    {
     "data": {
      "text/plain": [
       "Text(0.5, 1.05, 'Confusion Matrix (Gaussian Naive Bayes)')"
      ]
     },
     "execution_count": 37,
     "metadata": {},
     "output_type": "execute_result"
    },
    {
     "data": {
      "image/png": "[encoded data removed]",
      "text/plain": [
       "<Figure size 432x288 with 2 Axes>"
      ]
     },
     "metadata": {
      "needs_background": "light"
     },
     "output_type": "display_data"
    }
   ],
   "source": [
    "cnf_matrix = confusion_matrix(y_test, Y_pred_knn, labels=[1,0])\n",
    "sns.heatmap(cnf_matrix,annot=True,fmt='3.0f',cmap=\"summer\")\n",
    "plt.title('Confusion Matrix (Gaussian Naive Bayes)', y=1.05, size=15)"
   ]
  },
  {
   "cell_type": "code",
   "execution_count": 38,
   "metadata": {},
   "outputs": [
    {
     "name": "stdout",
     "output_type": "stream",
     "text": [
      "Jaccard Score:  71.5\n"
     ]
    }
   ],
   "source": [
    "jac_score_gaussian = round(jaccard_score(y_test, Y_pred_gnb, pos_label=0) * 100, 2)\n",
    "print(\"Jaccard Score: \", jac_score_gaussian)"
   ]
  },
  {
   "cell_type": "markdown",
   "metadata": {},
   "source": [
    "## Perceptron"
   ]
  },
  {
   "cell_type": "code",
   "execution_count": 39,
   "metadata": {},
   "outputs": [
    {
     "name": "stdout",
     "output_type": "stream",
     "text": [
      "Perceptron Accuracy:  89.06\n"
     ]
    }
   ],
   "source": [
    "perceptron = Perceptron()\n",
    "perceptron.fit(X_train, y_train)\n",
    "Y_pred_p = perceptron.predict(X_test)\n",
    "acc_perceptron = round(perceptron.score(X_test,y_test) * 100, 2)\n",
    "print(\"Perceptron Accuracy: \", acc_perceptron)"
   ]
  },
  {
   "cell_type": "code",
   "execution_count": 40,
   "metadata": {},
   "outputs": [
    {
     "name": "stdout",
     "output_type": "stream",
     "text": [
      "Cross Validated Score: 88.65\n"
     ]
    }
   ],
   "source": [
    "cvs_p = round((cross_val_score(perceptron, X,y,cv=10,scoring='accuracy')).mean()*100,2)\n",
    "print('Cross Validated Score:', cvs_p)"
   ]
  },
  {
   "cell_type": "code",
   "execution_count": 41,
   "metadata": {},
   "outputs": [
    {
     "name": "stdout",
     "output_type": "stream",
     "text": [
      "Classificiation Report: \n",
      "               precision    recall  f1-score   support\n",
      "\n",
      "           0       0.86      0.85      0.85       772\n",
      "           1       0.91      0.92      0.91      1293\n",
      "\n",
      "    accuracy                           0.89      2065\n",
      "   macro avg       0.88      0.88      0.88      2065\n",
      "weighted avg       0.89      0.89      0.89      2065\n",
      "\n"
     ]
    }
   ],
   "source": [
    "class_report = classification_report(y_test, Y_pred_p)\n",
    "print(\"Classificiation Report: \\n\", class_report)"
   ]
  },
  {
   "cell_type": "code",
   "execution_count": 42,
   "metadata": {},
   "outputs": [
    {
     "data": {
      "text/plain": [
       "Text(0.5, 1.05, 'Confusion Matrix (Perceptron)')"
      ]
     },
     "execution_count": 42,
     "metadata": {},
     "output_type": "execute_result"
    },
    {
     "data": {
      "image/png": "[encoded data removed]",
      "text/plain": [
       "<Figure size 432x288 with 2 Axes>"
      ]
     },
     "metadata": {
      "needs_background": "light"
     },
     "output_type": "display_data"
    }
   ],
   "source": [
    "cnf_matrix = confusion_matrix(y_test, Y_pred_knn, labels=[1,0])\n",
    "sns.heatmap(cnf_matrix,annot=True,fmt='3.0f',cmap=\"summer\")\n",
    "plt.title('Confusion Matrix (Perceptron)', y=1.05, size=15)"
   ]
  },
  {
   "cell_type": "code",
   "execution_count": 43,
   "metadata": {},
   "outputs": [
    {
     "name": "stdout",
     "output_type": "stream",
     "text": [
      "Jaccard Score:  74.35\n"
     ]
    }
   ],
   "source": [
    "jac_score_perceptron = round(jaccard_score(y_test, Y_pred_p, pos_label=0) * 100, 2)\n",
    "print(\"Jaccard Score: \", jac_score_perceptron)"
   ]
  },
  {
   "cell_type": "markdown",
   "metadata": {},
   "source": [
    "## Linear Support Vector Classification"
   ]
  },
  {
   "cell_type": "code",
   "execution_count": 44,
   "metadata": {},
   "outputs": [
    {
     "name": "stdout",
     "output_type": "stream",
     "text": [
      "Linear Support Vector Classification Accuracy:  93.75\n"
     ]
    },
    {
     "name": "stderr",
     "output_type": "stream",
     "text": [
      "c:\\users\\akash\\appdata\\local\\programs\\python\\python39\\lib\\site-packages\\sklearn\\svm\\_base.py:985: ConvergenceWarning: Liblinear failed to converge, increase the number of iterations.\n",
      "  warnings.warn(\"Liblinear failed to converge, increase \"\n"
     ]
    }
   ],
   "source": [
    "linear_svc = LinearSVC()\n",
    "linear_svc.fit(X_train, y_train)\n",
    "Y_pred_lsvc = linear_svc.predict(X_test)\n",
    "acc_linear_svc = round(linear_svc.score(X_test,y_test) * 100, 2)\n",
    "print(\"Linear Support Vector Classification Accuracy: \", acc_linear_svc)"
   ]
  },
  {
   "cell_type": "code",
   "execution_count": 45,
   "metadata": {},
   "outputs": [
    {
     "name": "stderr",
     "output_type": "stream",
     "text": [
      "c:\\users\\akash\\appdata\\local\\programs\\python\\python39\\lib\\site-packages\\sklearn\\svm\\_base.py:985: ConvergenceWarning: Liblinear failed to converge, increase the number of iterations.\n",
      "  warnings.warn(\"Liblinear failed to converge, increase \"\n",
      "c:\\users\\akash\\appdata\\local\\programs\\python\\python39\\lib\\site-packages\\sklearn\\svm\\_base.py:985: ConvergenceWarning: Liblinear failed to converge, increase the number of iterations.\n",
      "  warnings.warn(\"Liblinear failed to converge, increase \"\n",
      "c:\\users\\akash\\appdata\\local\\programs\\python\\python39\\lib\\site-packages\\sklearn\\svm\\_base.py:985: ConvergenceWarning: Liblinear failed to converge, increase the number of iterations.\n",
      "  warnings.warn(\"Liblinear failed to converge, increase \"\n",
      "c:\\users\\akash\\appdata\\local\\programs\\python\\python39\\lib\\site-packages\\sklearn\\svm\\_base.py:985: ConvergenceWarning: Liblinear failed to converge, increase the number of iterations.\n",
      "  warnings.warn(\"Liblinear failed to converge, increase \"\n",
      "c:\\users\\akash\\appdata\\local\\programs\\python\\python39\\lib\\site-packages\\sklearn\\svm\\_base.py:985: ConvergenceWarning: Liblinear failed to converge, increase the number of iterations.\n",
      "  warnings.warn(\"Liblinear failed to converge, increase \"\n",
      "c:\\users\\akash\\appdata\\local\\programs\\python\\python39\\lib\\site-packages\\sklearn\\svm\\_base.py:985: ConvergenceWarning: Liblinear failed to converge, increase the number of iterations.\n",
      "  warnings.warn(\"Liblinear failed to converge, increase \"\n",
      "c:\\users\\akash\\appdata\\local\\programs\\python\\python39\\lib\\site-packages\\sklearn\\svm\\_base.py:985: ConvergenceWarning: Liblinear failed to converge, increase the number of iterations.\n",
      "  warnings.warn(\"Liblinear failed to converge, increase \"\n",
      "c:\\users\\akash\\appdata\\local\\programs\\python\\python39\\lib\\site-packages\\sklearn\\svm\\_base.py:985: ConvergenceWarning: Liblinear failed to converge, increase the number of iterations.\n",
      "  warnings.warn(\"Liblinear failed to converge, increase \"\n",
      "c:\\users\\akash\\appdata\\local\\programs\\python\\python39\\lib\\site-packages\\sklearn\\svm\\_base.py:985: ConvergenceWarning: Liblinear failed to converge, increase the number of iterations.\n",
      "  warnings.warn(\"Liblinear failed to converge, increase \"\n"
     ]
    },
    {
     "name": "stdout",
     "output_type": "stream",
     "text": [
      "Cross Validated Score: 93.81\n"
     ]
    },
    {
     "name": "stderr",
     "output_type": "stream",
     "text": [
      "c:\\users\\akash\\appdata\\local\\programs\\python\\python39\\lib\\site-packages\\sklearn\\svm\\_base.py:985: ConvergenceWarning: Liblinear failed to converge, increase the number of iterations.\n",
      "  warnings.warn(\"Liblinear failed to converge, increase \"\n"
     ]
    }
   ],
   "source": [
    "cvs_lsvc = round((cross_val_score(linear_svc, X,y,cv=10,scoring='accuracy')).mean()*100,2)\n",
    "print('Cross Validated Score:', cvs_lsvc)"
   ]
  },
  {
   "cell_type": "code",
   "execution_count": 46,
   "metadata": {},
   "outputs": [
    {
     "name": "stdout",
     "output_type": "stream",
     "text": [
      "Classificiation Report: \n",
      "               precision    recall  f1-score   support\n",
      "\n",
      "           0       0.93      0.90      0.92       772\n",
      "           1       0.94      0.96      0.95      1293\n",
      "\n",
      "    accuracy                           0.94      2065\n",
      "   macro avg       0.94      0.93      0.93      2065\n",
      "weighted avg       0.94      0.94      0.94      2065\n",
      "\n"
     ]
    }
   ],
   "source": [
    "class_report = classification_report(y_test, Y_pred_lsvc)\n",
    "print(\"Classificiation Report: \\n\", class_report)"
   ]
  },
  {
   "cell_type": "code",
   "execution_count": 47,
   "metadata": {},
   "outputs": [
    {
     "data": {
      "text/plain": [
       "Text(0.5, 1.05, 'Confusion Matrix (Linear Support Vector Classification)')"
      ]
     },
     "execution_count": 47,
     "metadata": {},
     "output_type": "execute_result"
    },
    {
     "data": {
      "image/png": "[encoded data removed]",
      "text/plain": [
       "<Figure size 432x288 with 2 Axes>"
      ]
     },
     "metadata": {
      "needs_background": "light"
     },
     "output_type": "display_data"
    }
   ],
   "source": [
    "cnf_matrix = confusion_matrix(y_test, Y_pred_knn, labels=[1,0])\n",
    "sns.heatmap(cnf_matrix,annot=True,fmt='3.0f',cmap=\"summer\")\n",
    "plt.title('Confusion Matrix (Linear Support Vector Classification)', y=1.05, size=15)"
   ]
  },
  {
   "cell_type": "code",
   "execution_count": 48,
   "metadata": {},
   "outputs": [
    {
     "name": "stdout",
     "output_type": "stream",
     "text": [
      "Jaccard Score:  84.4\n"
     ]
    }
   ],
   "source": [
    "jac_score_linear_svc = round(jaccard_score(y_test, Y_pred_lsvc, pos_label=0) * 100, 2)\n",
    "print(\"Jaccard Score: \", jac_score_linear_svc)"
   ]
  },
  {
   "cell_type": "markdown",
   "metadata": {},
   "source": [
    "## Stochastic Gradient Descent"
   ]
  },
  {
   "cell_type": "code",
   "execution_count": 49,
   "metadata": {},
   "outputs": [
    {
     "name": "stdout",
     "output_type": "stream",
     "text": [
      "Stochastic Gradient Descent Accuracy:  93.46\n"
     ]
    }
   ],
   "source": [
    "sgd = SGDClassifier()\n",
    "sgd.fit(X_train, y_train)\n",
    "Y_pred_sgd = sgd.predict(X_test)\n",
    "acc_sgd = round(sgd.score(X_test,y_test) * 100, 2)\n",
    "print(\"Stochastic Gradient Descent Accuracy: \", acc_sgd)"
   ]
  },
  {
   "cell_type": "code",
   "execution_count": 50,
   "metadata": {},
   "outputs": [
    {
     "name": "stdout",
     "output_type": "stream",
     "text": [
      "Cross Validated Score: 93.63\n"
     ]
    }
   ],
   "source": [
    "cvs_sgd = round((cross_val_score(sgd, X,y,cv=10,scoring='accuracy')).mean()*100,2)\n",
    "print('Cross Validated Score:', cvs_sgd)"
   ]
  },
  {
   "cell_type": "code",
   "execution_count": 51,
   "metadata": {},
   "outputs": [
    {
     "name": "stdout",
     "output_type": "stream",
     "text": [
      "Classificiation Report: \n",
      "               precision    recall  f1-score   support\n",
      "\n",
      "           0       0.91      0.91      0.91       772\n",
      "           1       0.95      0.95      0.95      1293\n",
      "\n",
      "    accuracy                           0.93      2065\n",
      "   macro avg       0.93      0.93      0.93      2065\n",
      "weighted avg       0.93      0.93      0.93      2065\n",
      "\n"
     ]
    }
   ],
   "source": [
    "class_report = classification_report(y_test, Y_pred_sgd)\n",
    "print(\"Classificiation Report: \\n\", class_report)"
   ]
  },
  {
   "cell_type": "code",
   "execution_count": 52,
   "metadata": {},
   "outputs": [
    {
     "data": {
      "text/plain": [
       "Text(0.5, 1.05, 'Confusion Matrix (Stochastic Gradient Descent)')"
      ]
     },
     "execution_count": 52,
     "metadata": {},
     "output_type": "execute_result"
    },
    {
     "data": {
      "image/png": "[encoded data removed]",
      "text/plain": [
       "<Figure size 432x288 with 2 Axes>"
      ]
     },
     "metadata": {
      "needs_background": "light"
     },
     "output_type": "display_data"
    }
   ],
   "source": [
    "cnf_matrix = confusion_matrix(y_test, Y_pred_knn, labels=[1,0])\n",
    "sns.heatmap(cnf_matrix,annot=True,fmt='3.0f',cmap=\"summer\")\n",
    "plt.title('Confusion Matrix (Stochastic Gradient Descent)', y=1.05, size=15)"
   ]
  },
  {
   "cell_type": "code",
   "execution_count": 53,
   "metadata": {},
   "outputs": [
    {
     "name": "stdout",
     "output_type": "stream",
     "text": [
      "Jaccard Score:  83.91\n"
     ]
    }
   ],
   "source": [
    "jac_score_sgd = round(jaccard_score(y_test, Y_pred_sgd, pos_label=0) * 100, 2)\n",
    "print(\"Jaccard Score: \", jac_score_sgd)"
   ]
  },
  {
   "cell_type": "markdown",
   "metadata": {},
   "source": [
    "## Decision Tree"
   ]
  },
  {
   "cell_type": "code",
   "execution_count": 54,
   "metadata": {},
   "outputs": [
    {
     "name": "stdout",
     "output_type": "stream",
     "text": [
      "Decision Tree Accuracy:  98.01\n"
     ]
    }
   ],
   "source": [
    "decision_tree = DecisionTreeClassifier()\n",
    "decision_tree.fit(X_train, y_train)\n",
    "Y_pred_dt = decision_tree.predict(X_test)\n",
    "acc_decision_tree = round(decision_tree.score(X_test,y_test) * 100, 2)\n",
    "print(\"Decision Tree Accuracy: \", acc_decision_tree)"
   ]
  },
  {
   "cell_type": "code",
   "execution_count": 55,
   "metadata": {},
   "outputs": [
    {
     "name": "stdout",
     "output_type": "stream",
     "text": [
      "Cross Validated Score: 98.52\n"
     ]
    }
   ],
   "source": [
    "cvs_dt = round((cross_val_score(decision_tree, X,y,cv=10,scoring='accuracy')).mean()*100,2)\n",
    "print('Cross Validated Score:', cvs_dt)"
   ]
  },
  {
   "cell_type": "code",
   "execution_count": 56,
   "metadata": {},
   "outputs": [
    {
     "name": "stdout",
     "output_type": "stream",
     "text": [
      "Classificiation Report: \n",
      "               precision    recall  f1-score   support\n",
      "\n",
      "           0       0.97      0.97      0.97       772\n",
      "           1       0.98      0.98      0.98      1293\n",
      "\n",
      "    accuracy                           0.98      2065\n",
      "   macro avg       0.98      0.98      0.98      2065\n",
      "weighted avg       0.98      0.98      0.98      2065\n",
      "\n"
     ]
    }
   ],
   "source": [
    "class_report = classification_report(y_test, Y_pred_dt)\n",
    "print(\"Classificiation Report: \\n\", class_report)"
   ]
  },
  {
   "cell_type": "code",
   "execution_count": 57,
   "metadata": {},
   "outputs": [
    {
     "data": {
      "text/plain": [
       "Text(0.5, 1.05, 'Confusion Matrix (Decision Tree)')"
      ]
     },
     "execution_count": 57,
     "metadata": {},
     "output_type": "execute_result"
    },
    {
     "data": {
      "image/png": "[encoded data removed]",
      "text/plain": [
       "<Figure size 432x288 with 2 Axes>"
      ]
     },
     "metadata": {
      "needs_background": "light"
     },
     "output_type": "display_data"
    }
   ],
   "source": [
    "cnf_matrix = confusion_matrix(y_test, Y_pred_knn, labels=[1,0])\n",
    "sns.heatmap(cnf_matrix,annot=True,fmt='3.0f',cmap=\"summer\")\n",
    "plt.title('Confusion Matrix (Decision Tree)', y=1.05, size=15)"
   ]
  },
  {
   "cell_type": "code",
   "execution_count": 58,
   "metadata": {},
   "outputs": [
    {
     "name": "stdout",
     "output_type": "stream",
     "text": [
      "Jaccard Score:  94.83\n"
     ]
    }
   ],
   "source": [
    "jac_score_dt = round(jaccard_score(y_test, Y_pred_dt, pos_label=0) * 100, 2)\n",
    "print(\"Jaccard Score: \", jac_score_dt)"
   ]
  },
  {
   "cell_type": "code",
   "execution_count": 59,
   "metadata": {},
   "outputs": [
    {
     "name": "stdout",
     "output_type": "stream",
     "text": [
      "Feature: 0, Score: 0.00406\n",
      "Feature: 1, Score: 0.00133\n",
      "Feature: 2, Score: 0.00060\n",
      "Feature: 3, Score: 0.00027\n",
      "Feature: 4, Score: 0.00097\n",
      "Feature: 5, Score: 0.00033\n",
      "Feature: 6, Score: 0.00000\n",
      "Feature: 7, Score: 0.00038\n",
      "Feature: 8, Score: 0.00047\n",
      "Feature: 9, Score: 0.00238\n",
      "Feature: 10, Score: 0.00419\n",
      "Feature: 11, Score: 0.00178\n",
      "Feature: 12, Score: 0.00407\n",
      "Feature: 13, Score: 0.00447\n",
      "Feature: 14, Score: 0.76707\n",
      "Feature: 15, Score: 0.00510\n",
      "Feature: 16, Score: 0.05898\n",
      "Feature: 17, Score: 0.06551\n",
      "Feature: 18, Score: 0.07549\n",
      "Feature: 19, Score: 0.00139\n",
      "Feature: 20, Score: 0.00000\n",
      "Feature: 21, Score: 0.00079\n",
      "Feature: 22, Score: 0.00000\n",
      "Feature: 23, Score: 0.00034\n"
     ]
    },
    {
     "data": {
      "image/png": "[encoded data removed]",
      "text/plain": [
       "<Figure size 432x288 with 1 Axes>"
      ]
     },
     "metadata": {
      "needs_background": "light"
     },
     "output_type": "display_data"
    },
    {
     "name": "stdout",
     "output_type": "stream",
     "text": [
      "Standard Daviation of Feature Importance 0.15\n"
     ]
    }
   ],
   "source": [
    "importance_dt = decision_tree.feature_importances_\n",
    "\n",
    "for i,v in enumerate(importance_dt):\n",
    "    print('Feature: %0d, Score: %.5f' % (i,v))\n",
    "plt.bar([x for x in range(len(importance_dt))], importance_dt)\n",
    "plt.show()\n",
    "std_dt = round(np.std(importance_dt), 2)\n",
    "print(\"Standard Daviation of Feature Importance\", std_dt)"
   ]
  },
  {
   "cell_type": "markdown",
   "metadata": {},
   "source": [
    "## Random Forest"
   ]
  },
  {
   "cell_type": "code",
   "execution_count": 60,
   "metadata": {},
   "outputs": [
    {
     "name": "stdout",
     "output_type": "stream",
     "text": [
      "Random Forest Accuracy:  97.38\n"
     ]
    }
   ],
   "source": [
    "random_forest = RandomForestClassifier(n_estimators=100)\n",
    "random_forest.fit(X_train, y_train)\n",
    "Y_pred_rf = random_forest.predict(X_test)\n",
    "acc_random_forest = round(random_forest.score(X_test,y_test) * 100, 2)\n",
    "print(\"Random Forest Accuracy: \", acc_random_forest)"
   ]
  },
  {
   "cell_type": "code",
   "execution_count": 61,
   "metadata": {},
   "outputs": [
    {
     "name": "stdout",
     "output_type": "stream",
     "text": [
      "Cross Validated Score: 97.52\n"
     ]
    }
   ],
   "source": [
    "cvs_rf = round((cross_val_score(random_forest, X,y,cv=10,scoring='accuracy')).mean()*100,2)\n",
    "print('Cross Validated Score:', cvs_rf)"
   ]
  },
  {
   "cell_type": "code",
   "execution_count": 62,
   "metadata": {},
   "outputs": [
    {
     "name": "stdout",
     "output_type": "stream",
     "text": [
      "Classificiation Report: \n",
      "               precision    recall  f1-score   support\n",
      "\n",
      "           0       0.97      0.96      0.96       772\n",
      "           1       0.98      0.98      0.98      1293\n",
      "\n",
      "    accuracy                           0.97      2065\n",
      "   macro avg       0.97      0.97      0.97      2065\n",
      "weighted avg       0.97      0.97      0.97      2065\n",
      "\n"
     ]
    }
   ],
   "source": [
    "class_report = classification_report(y_test, Y_pred_rf)\n",
    "print(\"Classificiation Report: \\n\", class_report)"
   ]
  },
  {
   "cell_type": "code",
   "execution_count": 63,
   "metadata": {},
   "outputs": [
    {
     "data": {
      "text/plain": [
       "Text(0.5, 1.05, 'Confusion Matrix (Random Forest)')"
      ]
     },
     "execution_count": 63,
     "metadata": {},
     "output_type": "execute_result"
    },
    {
     "data": {
      "image/png": "[encoded data removed]",
      "text/plain": [
       "<Figure size 432x288 with 2 Axes>"
      ]
     },
     "metadata": {
      "needs_background": "light"
     },
     "output_type": "display_data"
    }
   ],
   "source": [
    "cnf_matrix = confusion_matrix(y_test, Y_pred_knn, labels=[1,0])\n",
    "sns.heatmap(cnf_matrix,annot=True,fmt='3.0f',cmap=\"summer\")\n",
    "plt.title('Confusion Matrix (Random Forest)', y=1.05, size=15)"
   ]
  },
  {
   "cell_type": "code",
   "execution_count": 64,
   "metadata": {},
   "outputs": [
    {
     "name": "stdout",
     "output_type": "stream",
     "text": [
      "Jaccard Score:  93.23\n"
     ]
    }
   ],
   "source": [
    "jac_score_rf = round(jaccard_score(y_test, Y_pred_rf, pos_label=0) * 100, 2)\n",
    "print(\"Jaccard Score: \", jac_score_rf)"
   ]
  },
  {
   "cell_type": "code",
   "execution_count": 65,
   "metadata": {},
   "outputs": [
    {
     "name": "stdout",
     "output_type": "stream",
     "text": [
      "Feature: 0, Score: 0.01423\n",
      "Feature: 1, Score: 0.00702\n",
      "Feature: 2, Score: 0.00521\n",
      "Feature: 3, Score: 0.00421\n",
      "Feature: 4, Score: 0.00283\n",
      "Feature: 5, Score: 0.00122\n",
      "Feature: 6, Score: 0.00405\n",
      "Feature: 7, Score: 0.00192\n",
      "Feature: 8, Score: 0.00138\n",
      "Feature: 9, Score: 0.01491\n",
      "Feature: 10, Score: 0.01348\n",
      "Feature: 11, Score: 0.01136\n",
      "Feature: 12, Score: 0.01038\n",
      "Feature: 13, Score: 0.01092\n",
      "Feature: 14, Score: 0.45036\n",
      "Feature: 15, Score: 0.01447\n",
      "Feature: 16, Score: 0.07919\n",
      "Feature: 17, Score: 0.21559\n",
      "Feature: 18, Score: 0.12446\n",
      "Feature: 19, Score: 0.00484\n",
      "Feature: 20, Score: 0.00185\n",
      "Feature: 21, Score: 0.00199\n",
      "Feature: 22, Score: 0.00190\n",
      "Feature: 23, Score: 0.00224\n"
     ]
    },
    {
     "data": {
      "image/png": "[encoded data removed]",
      "text/plain": [
       "<Figure size 432x288 with 1 Axes>"
      ]
     },
     "metadata": {
      "needs_background": "light"
     },
     "output_type": "display_data"
    },
    {
     "name": "stdout",
     "output_type": "stream",
     "text": [
      "Standard Daviation of Feature Importance 0.1\n"
     ]
    }
   ],
   "source": [
    "importance_rf = random_forest.feature_importances_\n",
    "\n",
    "for i,v in enumerate(importance_rf):\n",
    "    print('Feature: %0d, Score: %.5f' % (i,v))\n",
    "plt.bar([x for x in range(len(importance_rf))], importance_rf)\n",
    "plt.show()\n",
    "std_rf = round(np.std(importance_rf), 2)\n",
    "print(\"Standard Daviation of Feature Importance\", std_rf)"
   ]
  },
  {
   "cell_type": "markdown",
   "metadata": {},
   "source": [
    "## AdaBoost"
   ]
  },
  {
   "cell_type": "code",
   "execution_count": 66,
   "metadata": {},
   "outputs": [
    {
     "name": "stdout",
     "output_type": "stream",
     "text": [
      "AdaBoost Accuracy:  98.11\n"
     ]
    }
   ],
   "source": [
    "abc = AdaBoostClassifier(n_estimators=100, learning_rate=1)\n",
    "abc.fit(X_train, y_train)\n",
    "Y_pred_abc = abc.predict(X_test)\n",
    "abc_score = round(abc.score(X_test,y_test) * 100, 2)\n",
    "print(\"AdaBoost Accuracy: \", abc_score)"
   ]
  },
  {
   "cell_type": "code",
   "execution_count": 67,
   "metadata": {},
   "outputs": [
    {
     "name": "stdout",
     "output_type": "stream",
     "text": [
      "Cross Validated Score: 98.12\n"
     ]
    }
   ],
   "source": [
    "cvs_abc = round((cross_val_score(abc, X,y,cv=10,scoring='accuracy')).mean()*100,2)\n",
    "print('Cross Validated Score:', cvs_abc)"
   ]
  },
  {
   "cell_type": "code",
   "execution_count": 68,
   "metadata": {},
   "outputs": [
    {
     "name": "stdout",
     "output_type": "stream",
     "text": [
      "Classificiation Report: \n",
      "               precision    recall  f1-score   support\n",
      "\n",
      "           0       0.99      0.96      0.97       772\n",
      "           1       0.98      0.99      0.99      1293\n",
      "\n",
      "    accuracy                           0.98      2065\n",
      "   macro avg       0.98      0.98      0.98      2065\n",
      "weighted avg       0.98      0.98      0.98      2065\n",
      "\n"
     ]
    }
   ],
   "source": [
    "class_report = classification_report(y_test, Y_pred_abc)\n",
    "print(\"Classificiation Report: \\n\", class_report)"
   ]
  },
  {
   "cell_type": "code",
   "execution_count": 69,
   "metadata": {},
   "outputs": [
    {
     "data": {
      "text/plain": [
       "Text(0.5, 1.05, 'Confusion Matrix (AdaBoost)')"
      ]
     },
     "execution_count": 69,
     "metadata": {},
     "output_type": "execute_result"
    },
    {
     "data": {
      "image/png": "[encoded data removed]",
      "text/plain": [
       "<Figure size 432x288 with 2 Axes>"
      ]
     },
     "metadata": {
      "needs_background": "light"
     },
     "output_type": "display_data"
    }
   ],
   "source": [
    "cnf_matrix = confusion_matrix(y_test, Y_pred_abc, labels=[1,0])\n",
    "sns.heatmap(cnf_matrix,annot=True,fmt='3.0f',cmap=\"summer\")\n",
    "plt.title('Confusion Matrix (AdaBoost)', y=1.05, size=15)"
   ]
  },
  {
   "cell_type": "code",
   "execution_count": 70,
   "metadata": {},
   "outputs": [
    {
     "name": "stdout",
     "output_type": "stream",
     "text": [
      "Jaccard Score:  94.99\n"
     ]
    }
   ],
   "source": [
    "jac_score_abc = round(jaccard_score(y_test, Y_pred_abc, pos_label=0) * 100, 2)\n",
    "print(\"Jaccard Score: \", jac_score_abc)"
   ]
  },
  {
   "cell_type": "code",
   "execution_count": 71,
   "metadata": {},
   "outputs": [
    {
     "name": "stdout",
     "output_type": "stream",
     "text": [
      "Feature: 0, Score: 0.01000\n",
      "Feature: 1, Score: 0.00000\n",
      "Feature: 2, Score: 0.00000\n",
      "Feature: 3, Score: 0.00000\n",
      "Feature: 4, Score: 0.00000\n",
      "Feature: 5, Score: 0.00000\n",
      "Feature: 6, Score: 0.00000\n",
      "Feature: 7, Score: 0.00000\n",
      "Feature: 8, Score: 0.00000\n",
      "Feature: 9, Score: 0.02000\n",
      "Feature: 10, Score: 0.01000\n",
      "Feature: 11, Score: 0.02000\n",
      "Feature: 12, Score: 0.01000\n",
      "Feature: 13, Score: 0.00000\n",
      "Feature: 14, Score: 0.36000\n",
      "Feature: 15, Score: 0.00000\n",
      "Feature: 16, Score: 0.28000\n",
      "Feature: 17, Score: 0.27000\n",
      "Feature: 18, Score: 0.01000\n",
      "Feature: 19, Score: 0.01000\n",
      "Feature: 20, Score: 0.00000\n",
      "Feature: 21, Score: 0.00000\n",
      "Feature: 22, Score: 0.00000\n",
      "Feature: 23, Score: 0.00000\n"
     ]
    },
    {
     "data": {
      "image/png": "[encoded data removed]",
      "text/plain": [
       "<Figure size 432x288 with 1 Axes>"
      ]
     },
     "metadata": {
      "needs_background": "light"
     },
     "output_type": "display_data"
    },
    {
     "name": "stdout",
     "output_type": "stream",
     "text": [
      "Standard Daviation of Feature Importance 0.1\n"
     ]
    }
   ],
   "source": [
    "importance_abc = abc.feature_importances_\n",
    "\n",
    "for i,v in enumerate(importance_abc):\n",
    "    print('Feature: %0d, Score: %.5f' % (i,v))\n",
    "plt.bar([x for x in range(len(importance_abc))], importance_abc)\n",
    "plt.show()\n",
    "std_abc = round(np.std(importance_abc), 2)\n",
    "print(\"Standard Daviation of Feature Importance\", std_abc)"
   ]
  },
  {
   "cell_type": "markdown",
   "metadata": {},
   "source": [
    "## XGBoost"
   ]
  },
  {
   "cell_type": "code",
   "execution_count": 72,
   "metadata": {},
   "outputs": [
    {
     "name": "stdout",
     "output_type": "stream",
     "text": [
      "[21:05:15] WARNING: C:/Users/Administrator/workspace/xgboost-win64_release_1.4.0/src/learner.cc:1095: Starting in XGBoost 1.3.0, the default evaluation metric used with the objective 'binary:logistic' was changed from 'error' to 'logloss'. Explicitly set eval_metric if you'd like to restore the old behavior.\n"
     ]
    },
    {
     "name": "stderr",
     "output_type": "stream",
     "text": [
      "c:\\users\\akash\\appdata\\local\\programs\\python\\python39\\lib\\site-packages\\xgboost\\sklearn.py:1146: UserWarning: The use of label encoder in XGBClassifier is deprecated and will be removed in a future release. To remove this warning, do the following: 1) Pass option use_label_encoder=False when constructing XGBClassifier object; and 2) Encode your labels (y) as integers starting with 0, i.e. 0, 1, 2, ..., [num_class - 1].\n",
      "  warnings.warn(label_encoder_deprecation_msg, UserWarning)\n"
     ]
    },
    {
     "name": "stdout",
     "output_type": "stream",
     "text": [
      "XGBoost Accuracy:  98.55\n"
     ]
    }
   ],
   "source": [
    "xgb = XGBClassifier()\n",
    "xgb.fit(X_train, y_train)\n",
    "Y_pred_xgb = xgb.predict(X_test)\n",
    "XGB_score = round(xgb.score(X_test,y_test) * 100, 2)\n",
    "print(\"XGBoost Accuracy: \", XGB_score)"
   ]
  },
  {
   "cell_type": "code",
   "execution_count": 73,
   "metadata": {},
   "outputs": [
    {
     "name": "stdout",
     "output_type": "stream",
     "text": [
      "[21:05:15] WARNING: C:/Users/Administrator/workspace/xgboost-win64_release_1.4.0/src/learner.cc:1095: Starting in XGBoost 1.3.0, the default evaluation metric used with the objective 'binary:logistic' was changed from 'error' to 'logloss'. Explicitly set eval_metric if you'd like to restore the old behavior.\n"
     ]
    },
    {
     "name": "stderr",
     "output_type": "stream",
     "text": [
      "c:\\users\\akash\\appdata\\local\\programs\\python\\python39\\lib\\site-packages\\xgboost\\sklearn.py:1146: UserWarning: The use of label encoder in XGBClassifier is deprecated and will be removed in a future release. To remove this warning, do the following: 1) Pass option use_label_encoder=False when constructing XGBClassifier object; and 2) Encode your labels (y) as integers starting with 0, i.e. 0, 1, 2, ..., [num_class - 1].\n",
      "  warnings.warn(label_encoder_deprecation_msg, UserWarning)\n",
      "c:\\users\\akash\\appdata\\local\\programs\\python\\python39\\lib\\site-packages\\xgboost\\sklearn.py:1146: UserWarning: The use of label encoder in XGBClassifier is deprecated and will be removed in a future release. To remove this warning, do the following: 1) Pass option use_label_encoder=False when constructing XGBClassifier object; and 2) Encode your labels (y) as integers starting with 0, i.e. 0, 1, 2, ..., [num_class - 1].\n",
      "  warnings.warn(label_encoder_deprecation_msg, UserWarning)\n"
     ]
    },
    {
     "name": "stdout",
     "output_type": "stream",
     "text": [
      "[21:05:16] WARNING: C:/Users/Administrator/workspace/xgboost-win64_release_1.4.0/src/learner.cc:1095: Starting in XGBoost 1.3.0, the default evaluation metric used with the objective 'binary:logistic' was changed from 'error' to 'logloss'. Explicitly set eval_metric if you'd like to restore the old behavior.\n"
     ]
    },
    {
     "name": "stderr",
     "output_type": "stream",
     "text": [
      "c:\\users\\akash\\appdata\\local\\programs\\python\\python39\\lib\\site-packages\\xgboost\\sklearn.py:1146: UserWarning: The use of label encoder in XGBClassifier is deprecated and will be removed in a future release. To remove this warning, do the following: 1) Pass option use_label_encoder=False when constructing XGBClassifier object; and 2) Encode your labels (y) as integers starting with 0, i.e. 0, 1, 2, ..., [num_class - 1].\n",
      "  warnings.warn(label_encoder_deprecation_msg, UserWarning)\n"
     ]
    },
    {
     "name": "stdout",
     "output_type": "stream",
     "text": [
      "[21:05:16] WARNING: C:/Users/Administrator/workspace/xgboost-win64_release_1.4.0/src/learner.cc:1095: Starting in XGBoost 1.3.0, the default evaluation metric used with the objective 'binary:logistic' was changed from 'error' to 'logloss'. Explicitly set eval_metric if you'd like to restore the old behavior.\n"
     ]
    },
    {
     "name": "stderr",
     "output_type": "stream",
     "text": [
      "c:\\users\\akash\\appdata\\local\\programs\\python\\python39\\lib\\site-packages\\xgboost\\sklearn.py:1146: UserWarning: The use of label encoder in XGBClassifier is deprecated and will be removed in a future release. To remove this warning, do the following: 1) Pass option use_label_encoder=False when constructing XGBClassifier object; and 2) Encode your labels (y) as integers starting with 0, i.e. 0, 1, 2, ..., [num_class - 1].\n",
      "  warnings.warn(label_encoder_deprecation_msg, UserWarning)\n"
     ]
    },
    {
     "name": "stdout",
     "output_type": "stream",
     "text": [
      "[21:05:16] WARNING: C:/Users/Administrator/workspace/xgboost-win64_release_1.4.0/src/learner.cc:1095: Starting in XGBoost 1.3.0, the default evaluation metric used with the objective 'binary:logistic' was changed from 'error' to 'logloss'. Explicitly set eval_metric if you'd like to restore the old behavior.\n"
     ]
    },
    {
     "name": "stderr",
     "output_type": "stream",
     "text": [
      "c:\\users\\akash\\appdata\\local\\programs\\python\\python39\\lib\\site-packages\\xgboost\\sklearn.py:1146: UserWarning: The use of label encoder in XGBClassifier is deprecated and will be removed in a future release. To remove this warning, do the following: 1) Pass option use_label_encoder=False when constructing XGBClassifier object; and 2) Encode your labels (y) as integers starting with 0, i.e. 0, 1, 2, ..., [num_class - 1].\n",
      "  warnings.warn(label_encoder_deprecation_msg, UserWarning)\n"
     ]
    },
    {
     "name": "stdout",
     "output_type": "stream",
     "text": [
      "[21:05:16] WARNING: C:/Users/Administrator/workspace/xgboost-win64_release_1.4.0/src/learner.cc:1095: Starting in XGBoost 1.3.0, the default evaluation metric used with the objective 'binary:logistic' was changed from 'error' to 'logloss'. Explicitly set eval_metric if you'd like to restore the old behavior.\n"
     ]
    },
    {
     "name": "stderr",
     "output_type": "stream",
     "text": [
      "c:\\users\\akash\\appdata\\local\\programs\\python\\python39\\lib\\site-packages\\xgboost\\sklearn.py:1146: UserWarning: The use of label encoder in XGBClassifier is deprecated and will be removed in a future release. To remove this warning, do the following: 1) Pass option use_label_encoder=False when constructing XGBClassifier object; and 2) Encode your labels (y) as integers starting with 0, i.e. 0, 1, 2, ..., [num_class - 1].\n",
      "  warnings.warn(label_encoder_deprecation_msg, UserWarning)\n"
     ]
    },
    {
     "name": "stdout",
     "output_type": "stream",
     "text": [
      "[21:05:17] WARNING: C:/Users/Administrator/workspace/xgboost-win64_release_1.4.0/src/learner.cc:1095: Starting in XGBoost 1.3.0, the default evaluation metric used with the objective 'binary:logistic' was changed from 'error' to 'logloss'. Explicitly set eval_metric if you'd like to restore the old behavior.\n"
     ]
    },
    {
     "name": "stderr",
     "output_type": "stream",
     "text": [
      "c:\\users\\akash\\appdata\\local\\programs\\python\\python39\\lib\\site-packages\\xgboost\\sklearn.py:1146: UserWarning: The use of label encoder in XGBClassifier is deprecated and will be removed in a future release. To remove this warning, do the following: 1) Pass option use_label_encoder=False when constructing XGBClassifier object; and 2) Encode your labels (y) as integers starting with 0, i.e. 0, 1, 2, ..., [num_class - 1].\n",
      "  warnings.warn(label_encoder_deprecation_msg, UserWarning)\n"
     ]
    },
    {
     "name": "stdout",
     "output_type": "stream",
     "text": [
      "[21:05:17] WARNING: C:/Users/Administrator/workspace/xgboost-win64_release_1.4.0/src/learner.cc:1095: Starting in XGBoost 1.3.0, the default evaluation metric used with the objective 'binary:logistic' was changed from 'error' to 'logloss'. Explicitly set eval_metric if you'd like to restore the old behavior.\n"
     ]
    },
    {
     "name": "stderr",
     "output_type": "stream",
     "text": [
      "c:\\users\\akash\\appdata\\local\\programs\\python\\python39\\lib\\site-packages\\xgboost\\sklearn.py:1146: UserWarning: The use of label encoder in XGBClassifier is deprecated and will be removed in a future release. To remove this warning, do the following: 1) Pass option use_label_encoder=False when constructing XGBClassifier object; and 2) Encode your labels (y) as integers starting with 0, i.e. 0, 1, 2, ..., [num_class - 1].\n",
      "  warnings.warn(label_encoder_deprecation_msg, UserWarning)\n"
     ]
    },
    {
     "name": "stdout",
     "output_type": "stream",
     "text": [
      "[21:05:17] WARNING: C:/Users/Administrator/workspace/xgboost-win64_release_1.4.0/src/learner.cc:1095: Starting in XGBoost 1.3.0, the default evaluation metric used with the objective 'binary:logistic' was changed from 'error' to 'logloss'. Explicitly set eval_metric if you'd like to restore the old behavior.\n"
     ]
    },
    {
     "name": "stderr",
     "output_type": "stream",
     "text": [
      "c:\\users\\akash\\appdata\\local\\programs\\python\\python39\\lib\\site-packages\\xgboost\\sklearn.py:1146: UserWarning: The use of label encoder in XGBClassifier is deprecated and will be removed in a future release. To remove this warning, do the following: 1) Pass option use_label_encoder=False when constructing XGBClassifier object; and 2) Encode your labels (y) as integers starting with 0, i.e. 0, 1, 2, ..., [num_class - 1].\n",
      "  warnings.warn(label_encoder_deprecation_msg, UserWarning)\n"
     ]
    },
    {
     "name": "stdout",
     "output_type": "stream",
     "text": [
      "[21:05:17] WARNING: C:/Users/Administrator/workspace/xgboost-win64_release_1.4.0/src/learner.cc:1095: Starting in XGBoost 1.3.0, the default evaluation metric used with the objective 'binary:logistic' was changed from 'error' to 'logloss'. Explicitly set eval_metric if you'd like to restore the old behavior.\n"
     ]
    },
    {
     "name": "stderr",
     "output_type": "stream",
     "text": [
      "c:\\users\\akash\\appdata\\local\\programs\\python\\python39\\lib\\site-packages\\xgboost\\sklearn.py:1146: UserWarning: The use of label encoder in XGBClassifier is deprecated and will be removed in a future release. To remove this warning, do the following: 1) Pass option use_label_encoder=False when constructing XGBClassifier object; and 2) Encode your labels (y) as integers starting with 0, i.e. 0, 1, 2, ..., [num_class - 1].\n",
      "  warnings.warn(label_encoder_deprecation_msg, UserWarning)\n"
     ]
    },
    {
     "name": "stdout",
     "output_type": "stream",
     "text": [
      "[21:05:18] WARNING: C:/Users/Administrator/workspace/xgboost-win64_release_1.4.0/src/learner.cc:1095: Starting in XGBoost 1.3.0, the default evaluation metric used with the objective 'binary:logistic' was changed from 'error' to 'logloss'. Explicitly set eval_metric if you'd like to restore the old behavior.\n",
      "Cross Validated Score: 98.97\n"
     ]
    }
   ],
   "source": [
    "cvs_xgb = round((cross_val_score(xgb, X,y,cv=10,scoring='accuracy')).mean()*100,2)\n",
    "print('Cross Validated Score:', cvs_xgb)"
   ]
  },
  {
   "cell_type": "code",
   "execution_count": 74,
   "metadata": {},
   "outputs": [
    {
     "name": "stdout",
     "output_type": "stream",
     "text": [
      "Classificiation Report: \n",
      "               precision    recall  f1-score   support\n",
      "\n",
      "           0       0.99      0.97      0.98       772\n",
      "           1       0.98      1.00      0.99      1293\n",
      "\n",
      "    accuracy                           0.99      2065\n",
      "   macro avg       0.99      0.98      0.98      2065\n",
      "weighted avg       0.99      0.99      0.99      2065\n",
      "\n"
     ]
    }
   ],
   "source": [
    "class_report = classification_report(y_test, Y_pred_xgb)\n",
    "print(\"Classificiation Report: \\n\", class_report)"
   ]
  },
  {
   "cell_type": "code",
   "execution_count": 75,
   "metadata": {},
   "outputs": [
    {
     "data": {
      "text/plain": [
       "Text(0.5, 1.05, 'Confusion Matrix (XGBoost)')"
      ]
     },
     "execution_count": 75,
     "metadata": {},
     "output_type": "execute_result"
    },
    {
     "data": {
      "image/png": "[encoded data removed]",
      "text/plain": [
       "<Figure size 432x288 with 2 Axes>"
      ]
     },
     "metadata": {
      "needs_background": "light"
     },
     "output_type": "display_data"
    }
   ],
   "source": [
    "cnf_matrix = confusion_matrix(y_test, Y_pred_xgb, labels=[1,0])\n",
    "sns.heatmap(cnf_matrix,annot=True,fmt='3.0f',cmap=\"summer\")\n",
    "plt.title('Confusion Matrix (XGBoost)', y=1.05, size=15)"
   ]
  },
  {
   "cell_type": "code",
   "execution_count": 76,
   "metadata": {},
   "outputs": [
    {
     "name": "stdout",
     "output_type": "stream",
     "text": [
      "Jaccard Score:  96.14\n"
     ]
    }
   ],
   "source": [
    "jac_score_xgb = round(jaccard_score(y_test, Y_pred_xgb, pos_label=0) * 100, 2)\n",
    "print(\"Jaccard Score: \", jac_score_xgb)"
   ]
  },
  {
   "cell_type": "code",
   "execution_count": 77,
   "metadata": {},
   "outputs": [
    {
     "name": "stdout",
     "output_type": "stream",
     "text": [
      "Feature: 0, Score: 0.00524\n",
      "Feature: 1, Score: 0.00507\n",
      "Feature: 2, Score: 0.00804\n",
      "Feature: 3, Score: 0.00522\n",
      "Feature: 4, Score: 0.01002\n",
      "Feature: 5, Score: 0.00626\n",
      "Feature: 6, Score: 0.00649\n",
      "Feature: 7, Score: 0.00907\n",
      "Feature: 8, Score: 0.00000\n",
      "Feature: 9, Score: 0.00663\n",
      "Feature: 10, Score: 0.00649\n",
      "Feature: 11, Score: 0.00713\n",
      "Feature: 12, Score: 0.01034\n",
      "Feature: 13, Score: 0.00671\n",
      "Feature: 14, Score: 0.36743\n",
      "Feature: 15, Score: 0.00684\n",
      "Feature: 16, Score: 0.05247\n",
      "Feature: 17, Score: 0.07197\n",
      "Feature: 18, Score: 0.38551\n",
      "Feature: 19, Score: 0.01044\n",
      "Feature: 20, Score: 0.00000\n",
      "Feature: 21, Score: 0.00483\n",
      "Feature: 22, Score: 0.00352\n",
      "Feature: 23, Score: 0.00430\n"
     ]
    },
    {
     "data": {
      "image/png": "[encoded data removed]",
      "text/plain": [
       "<Figure size 432x288 with 1 Axes>"
      ]
     },
     "metadata": {
      "needs_background": "light"
     },
     "output_type": "display_data"
    },
    {
     "name": "stdout",
     "output_type": "stream",
     "text": [
      "Standard Daviation of Feature Importance 0.1\n"
     ]
    }
   ],
   "source": [
    "importance_xgb = xgb.feature_importances_\n",
    "\n",
    "for i,v in enumerate(importance_xgb):\n",
    "    print('Feature: %0d, Score: %.5f' % (i,v))\n",
    "plt.bar([x for x in range(len(importance_xgb))], importance_xgb)\n",
    "plt.show()\n",
    "std_xgb = round(np.std(importance_xgb), 2)\n",
    "print(\"Standard Daviation of Feature Importance\", std_xgb)"
   ]
  },
  {
   "cell_type": "markdown",
   "metadata": {},
   "source": [
    "## ROC Curve"
   ]
  },
  {
   "cell_type": "code",
   "execution_count": 78,
   "metadata": {},
   "outputs": [],
   "source": [
    "auc_lr = roc_auc_score(y_test, Y_pred_lr)\n",
    "fpr_lr, tpr_lr, thresholds_lr = roc_curve(y_test, Y_pred_lr)\n",
    "\n",
    "auc_svm = roc_auc_score(y_test, Y_pred_svm)\n",
    "fpr_svm, tpr_svm, thresholds_svm = roc_curve(y_test, Y_pred_svm)\n",
    "\n",
    "auc_knn = roc_auc_score(y_test, Y_pred_knn)\n",
    "fpr_knn, tpr_knn, thresholds_knn = roc_curve(y_test, Y_pred_knn)\n",
    "\n",
    "auc_gnb = roc_auc_score(y_test, Y_pred_gnb)\n",
    "fpr_gnb, tpr_gnb, thresholds_gnb = roc_curve(y_test, Y_pred_gnb)\n",
    "\n",
    "auc_p = roc_auc_score(y_test, Y_pred_p)\n",
    "fpr_p, tpr_p, thresholds_p = roc_curve(y_test, Y_pred_p)\n",
    "\n",
    "auc_lsvc = roc_auc_score(y_test, Y_pred_lsvc)\n",
    "fpr_lsvc, tpr_lsvc, thresholds_lsvc = roc_curve(y_test, Y_pred_lsvc)\n",
    "\n",
    "auc_sgd = roc_auc_score(y_test, Y_pred_sgd)\n",
    "fpr_sgd, tpr_sgd, thresholds_sgd = roc_curve(y_test, Y_pred_sgd)\n",
    "\n",
    "auc_dt = roc_auc_score(y_test, Y_pred_dt)\n",
    "fpr_dt, tpr_dt, thresholds_dt = roc_curve(y_test, Y_pred_dt)\n",
    "\n",
    "auc_rf = roc_auc_score(y_test, Y_pred_rf)\n",
    "fpr_rf, tpr_rf, thresholds_rf = roc_curve(y_test, Y_pred_rf)\n",
    "\n",
    "auc_abc = roc_auc_score(y_test, Y_pred_abc)\n",
    "fpr_abc, tpr_abc, thresholds_abc = roc_curve(y_test, Y_pred_abc)\n",
    "\n",
    "auc_xgb = roc_auc_score(y_test, Y_pred_xgb)\n",
    "fpr_xgb, tpr_xgb, thresholds_xgb = roc_curve(y_test, Y_pred_xgb)"
   ]
  },
  {
   "cell_type": "markdown",
   "metadata": {},
   "source": [
    "### Plotting"
   ]
  },
  {
   "cell_type": "code",
   "execution_count": 79,
   "metadata": {},
   "outputs": [
    {
     "data": {
      "text/plain": [
       "<matplotlib.legend.Legend at 0x2762fdc73a0>"
      ]
     },
     "execution_count": 79,
     "metadata": {},
     "output_type": "execute_result"
    },
    {
     "data": {
      "image/png": "[encoded data removed]",
      "text/plain": [
       "<Figure size 864x504 with 1 Axes>"
      ]
     },
     "metadata": {
      "needs_background": "light"
     },
     "output_type": "display_data"
    }
   ],
   "source": [
    "plt.figure(figsize=(12, 7))\n",
    "plt.plot(fpr_xgb, tpr_xgb, label=f'AUC (XGBoost) = {auc_xgb:.2f}')\n",
    "plt.plot(fpr_dt, tpr_dt, label=f'AUC (Decision Tree) = {auc_dt:.2f}')\n",
    "plt.plot(fpr_abc, tpr_abc, label=f'AUC (AdaBoost) = {auc_abc:.2f}')\n",
    "plt.plot(fpr_rf, tpr_rf, label=f'AUC (Random Forests) = {auc_rf:.2f}')\n",
    "plt.plot(fpr_lr, tpr_lr, label=f'AUC (Logistic Regression) = {auc_lr:.2f}')\n",
    "plt.plot(fpr_lsvc, tpr_lsvc, label=f'AUC (Linear SVC) = {auc_lsvc:.2f}')\n",
    "plt.plot(fpr_svm, tpr_svm, label=f'AUC (Support Vector Machine) = {auc_svm:.2f}')\n",
    "plt.plot(fpr_sgd, tpr_sgd, label=f'AUC (SGD) = {auc_sgd:.2f}')\n",
    "plt.plot(fpr_knn, tpr_knn, label=f'AUC (K-Nearest Neighbours) = {auc_knn:.2f}')\n",
    "plt.plot(fpr_gnb, tpr_gnb, label=f'AUC (Gaussian Naive Bayes) = {auc_gnb:.2f}')\n",
    "plt.plot(fpr_p, tpr_p, label=f'AUC (Perceptron) = {auc_p:.2f}')\n",
    "\n",
    "plt.title('ROC AUC Score')\n",
    "plt.plot([0, 1], [0, 1], color='blue', linestyle='--', label='Baseline')\n",
    "plt.legend()"
   ]
  },
  {
   "cell_type": "markdown",
   "metadata": {},
   "source": [
    "## Mean Squared Error and Mean Absolute Error"
   ]
  },
  {
   "cell_type": "code",
   "execution_count": 80,
   "metadata": {},
   "outputs": [],
   "source": [
    "lr_mae = round((mean_absolute_error(y_test, Y_pred_lr)*100), 2)\n",
    "lr_mse = round((mean_squared_error(y_test, Y_pred_lr)*100), 2)\n",
    "\n",
    "svm_mae = round((mean_absolute_error(y_test, Y_pred_svm)*100), 2)\n",
    "svm_mse = round((mean_squared_error(y_test, Y_pred_svm)*100), 2)\n",
    "\n",
    "knn_mae = round((mean_absolute_error(y_test, Y_pred_knn)*100), 2)\n",
    "knn_mse = round((mean_squared_error(y_test, Y_pred_knn)*100), 2)\n",
    "\n",
    "gnb_mae = round((mean_absolute_error(y_test, Y_pred_gnb)*100), 2)\n",
    "gnb_mse = round((mean_squared_error(y_test, Y_pred_gnb)*100), 2)\n",
    "\n",
    "p_mae = round((mean_absolute_error(y_test, Y_pred_p)*100), 2)\n",
    "p_mse = round((mean_squared_error(y_test, Y_pred_p)*100), 2)\n",
    "\n",
    "lsvc_mae = round((mean_absolute_error(y_test, Y_pred_lsvc)*100), 2)\n",
    "lsvc_mse = round((mean_squared_error(y_test, Y_pred_lsvc)*100), 2)\n",
    "\n",
    "sgd_mae = round((mean_absolute_error(y_test, Y_pred_sgd)*100), 2)\n",
    "sgd_mse = round((mean_squared_error(y_test, Y_pred_sgd)*100), 2)\n",
    "\n",
    "dt_mae = round((mean_absolute_error(y_test, Y_pred_dt)*100), 2)\n",
    "dt_mse = round((mean_squared_error(y_test, Y_pred_dt)*100), 2)\n",
    "\n",
    "rf_mae = round((mean_absolute_error(y_test, Y_pred_rf)*100), 2)\n",
    "rf_mse = round((mean_squared_error(y_test, Y_pred_rf)*100), 2)\n",
    "\n",
    "abc_mae = round((mean_absolute_error(y_test, Y_pred_abc)*100), 2)\n",
    "abc_mse = round((mean_squared_error(y_test, Y_pred_abc)*100), 2)\n",
    "\n",
    "xgb_mae = round((mean_absolute_error(y_test, Y_pred_xgb)*100), 2)\n",
    "xgb_mse = round((mean_squared_error(y_test, Y_pred_xgb)*100), 2)"
   ]
  },
  {
   "cell_type": "markdown",
   "metadata": {},
   "source": [
    "## Final Table\n",
    "#### Excluding Feature Importance"
   ]
  },
  {
   "cell_type": "code",
   "execution_count": 81,
   "metadata": {},
   "outputs": [
    {
     "data": {
      "text/html": [
       "<div>\n",
       "<style scoped>\n",
       "    .dataframe tbody tr th:only-of-type {\n",
       "        vertical-align: middle;\n",
       "    }\n",
       "\n",
       "    .dataframe tbody tr th {\n",
       "        vertical-align: top;\n",
       "    }\n",
       "\n",
       "    .dataframe thead th {\n",
       "        text-align: right;\n",
       "    }\n",
       "</style>\n",
       "<table border=\"1\" class=\"dataframe\">\n",
       "  <thead>\n",
       "    <tr style=\"text-align: right;\">\n",
       "      <th></th>\n",
       "      <th>Algorithm Name</th>\n",
       "      <th>Accuracy Score (%)</th>\n",
       "      <th>Jaccard Score (%)</th>\n",
       "      <th>Cross Validated Score (%)</th>\n",
       "      <th>AUC Score (%)</th>\n",
       "      <th>Misclassification (%)</th>\n",
       "      <th>Mean Absolute Error (%)</th>\n",
       "      <th>Mean Squared Error (%)</th>\n",
       "      <th>Standard Deviation</th>\n",
       "    </tr>\n",
       "  </thead>\n",
       "  <tbody>\n",
       "    <tr>\n",
       "      <th>10</th>\n",
       "      <td>XGBoost Classifier</td>\n",
       "      <td>98.55</td>\n",
       "      <td>96.14</td>\n",
       "      <td>98.97</td>\n",
       "      <td>98.21</td>\n",
       "      <td>1.45</td>\n",
       "      <td>1.45</td>\n",
       "      <td>1.45</td>\n",
       "      <td>0.1</td>\n",
       "    </tr>\n",
       "    <tr>\n",
       "      <th>9</th>\n",
       "      <td>AdaBoost Classifier</td>\n",
       "      <td>98.11</td>\n",
       "      <td>94.99</td>\n",
       "      <td>98.12</td>\n",
       "      <td>97.66</td>\n",
       "      <td>1.89</td>\n",
       "      <td>1.89</td>\n",
       "      <td>1.89</td>\n",
       "      <td>0.1</td>\n",
       "    </tr>\n",
       "    <tr>\n",
       "      <th>8</th>\n",
       "      <td>Decision Tree</td>\n",
       "      <td>98.01</td>\n",
       "      <td>94.83</td>\n",
       "      <td>98.52</td>\n",
       "      <td>97.89</td>\n",
       "      <td>1.99</td>\n",
       "      <td>1.99</td>\n",
       "      <td>1.99</td>\n",
       "      <td>0.15</td>\n",
       "    </tr>\n",
       "    <tr>\n",
       "      <th>3</th>\n",
       "      <td>Random Forest</td>\n",
       "      <td>97.38</td>\n",
       "      <td>93.23</td>\n",
       "      <td>97.52</td>\n",
       "      <td>97.18</td>\n",
       "      <td>2.62</td>\n",
       "      <td>2.62</td>\n",
       "      <td>2.62</td>\n",
       "      <td>0.1</td>\n",
       "    </tr>\n",
       "    <tr>\n",
       "      <th>2</th>\n",
       "      <td>Logistic Regression</td>\n",
       "      <td>94.04</td>\n",
       "      <td>85.14</td>\n",
       "      <td>94.10</td>\n",
       "      <td>93.50</td>\n",
       "      <td>5.96</td>\n",
       "      <td>5.96</td>\n",
       "      <td>5.96</td>\n",
       "      <td>1.23</td>\n",
       "    </tr>\n",
       "    <tr>\n",
       "      <th>7</th>\n",
       "      <td>Linear SVC</td>\n",
       "      <td>93.75</td>\n",
       "      <td>84.40</td>\n",
       "      <td>93.81</td>\n",
       "      <td>93.08</td>\n",
       "      <td>6.25</td>\n",
       "      <td>6.25</td>\n",
       "      <td>6.25</td>\n",
       "      <td>--</td>\n",
       "    </tr>\n",
       "    <tr>\n",
       "      <th>0</th>\n",
       "      <td>Support Vector Machines</td>\n",
       "      <td>93.46</td>\n",
       "      <td>83.87</td>\n",
       "      <td>93.53</td>\n",
       "      <td>92.95</td>\n",
       "      <td>6.54</td>\n",
       "      <td>6.54</td>\n",
       "      <td>6.54</td>\n",
       "      <td>--</td>\n",
       "    </tr>\n",
       "    <tr>\n",
       "      <th>6</th>\n",
       "      <td>Stochastic Gradient Decent</td>\n",
       "      <td>93.46</td>\n",
       "      <td>83.91</td>\n",
       "      <td>93.63</td>\n",
       "      <td>93.00</td>\n",
       "      <td>6.54</td>\n",
       "      <td>6.54</td>\n",
       "      <td>6.54</td>\n",
       "      <td>--</td>\n",
       "    </tr>\n",
       "    <tr>\n",
       "      <th>5</th>\n",
       "      <td>Perceptron</td>\n",
       "      <td>89.06</td>\n",
       "      <td>74.35</td>\n",
       "      <td>88.65</td>\n",
       "      <td>88.21</td>\n",
       "      <td>10.94</td>\n",
       "      <td>10.94</td>\n",
       "      <td>10.94</td>\n",
       "      <td>--</td>\n",
       "    </tr>\n",
       "    <tr>\n",
       "      <th>1</th>\n",
       "      <td>KNN</td>\n",
       "      <td>88.62</td>\n",
       "      <td>74.23</td>\n",
       "      <td>87.71</td>\n",
       "      <td>88.43</td>\n",
       "      <td>11.38</td>\n",
       "      <td>11.38</td>\n",
       "      <td>11.38</td>\n",
       "      <td>--</td>\n",
       "    </tr>\n",
       "    <tr>\n",
       "      <th>4</th>\n",
       "      <td>Naive Bayes</td>\n",
       "      <td>86.00</td>\n",
       "      <td>71.50</td>\n",
       "      <td>85.45</td>\n",
       "      <td>87.60</td>\n",
       "      <td>14.00</td>\n",
       "      <td>14.00</td>\n",
       "      <td>14.00</td>\n",
       "      <td>--</td>\n",
       "    </tr>\n",
       "  </tbody>\n",
       "</table>\n",
       "</div>"
      ],
      "text/plain": [
       "                Algorithm Name  Accuracy Score (%)  Jaccard Score (%)  \\\n",
       "10          XGBoost Classifier               98.55              96.14   \n",
       "9          AdaBoost Classifier               98.11              94.99   \n",
       "8                Decision Tree               98.01              94.83   \n",
       "3                Random Forest               97.38              93.23   \n",
       "2          Logistic Regression               94.04              85.14   \n",
       "7                   Linear SVC               93.75              84.40   \n",
       "0      Support Vector Machines               93.46              83.87   \n",
       "6   Stochastic Gradient Decent               93.46              83.91   \n",
       "5                   Perceptron               89.06              74.35   \n",
       "1                          KNN               88.62              74.23   \n",
       "4                  Naive Bayes               86.00              71.50   \n",
       "\n",
       "    Cross Validated Score (%)  AUC Score (%)  Misclassification (%)  \\\n",
       "10                      98.97          98.21                   1.45   \n",
       "9                       98.12          97.66                   1.89   \n",
       "8                       98.52          97.89                   1.99   \n",
       "3                       97.52          97.18                   2.62   \n",
       "2                       94.10          93.50                   5.96   \n",
       "7                       93.81          93.08                   6.25   \n",
       "0                       93.53          92.95                   6.54   \n",
       "6                       93.63          93.00                   6.54   \n",
       "5                       88.65          88.21                  10.94   \n",
       "1                       87.71          88.43                  11.38   \n",
       "4                       85.45          87.60                  14.00   \n",
       "\n",
       "    Mean Absolute Error (%)  Mean Squared Error (%) Standard Deviation  \n",
       "10                     1.45                    1.45                0.1  \n",
       "9                      1.89                    1.89                0.1  \n",
       "8                      1.99                    1.99               0.15  \n",
       "3                      2.62                    2.62                0.1  \n",
       "2                      5.96                    5.96               1.23  \n",
       "7                      6.25                    6.25                 --  \n",
       "0                      6.54                    6.54                 --  \n",
       "6                      6.54                    6.54                 --  \n",
       "5                     10.94                   10.94                 --  \n",
       "1                     11.38                   11.38                 --  \n",
       "4                     14.00                   14.00                 --  "
      ]
     },
     "execution_count": 81,
     "metadata": {},
     "output_type": "execute_result"
    }
   ],
   "source": [
    "models = pd.DataFrame({\n",
    "    'Algorithm Name': ['Support Vector Machines', 'KNN', 'Logistic Regression', 'Random Forest', 'Naive Bayes', 'Perceptron', 'Stochastic Gradient Decent', 'Linear SVC', 'Decision Tree','AdaBoost Classifier','XGBoost Classifier'],\n",
    "    'Accuracy Score (%)': [acc_svc, acc_knn, acc_log, acc_random_forest, acc_gaussian, acc_perceptron, acc_sgd, acc_linear_svc, acc_decision_tree, abc_score,XGB_score],\n",
    "    'Jaccard Score (%)' : [jac_score_svm, jac_score_knn, jac_score_logreg, jac_score_rf, jac_score_gaussian, jac_score_perceptron, jac_score_sgd, jac_score_linear_svc, jac_score_dt, jac_score_abc, jac_score_xgb],\n",
    "    'Cross Validated Score (%)' : [cvs_svm, cvs_knn, cvs_lr, cvs_rf, cvs_gnb, cvs_p, cvs_sgd, cvs_lsvc, cvs_dt, cvs_abc, cvs_xgb],\n",
    "    'AUC Score (%)' : [(round(auc_svm*100, 2)), (round(auc_knn*100, 2)), (round(auc_lr*100, 2)), (round(auc_rf*100, 2)), (round(auc_gnb*100, 2)), (round(auc_p*100, 2)), (round(auc_sgd*100, 2)), (round(auc_lsvc*100, 2)), (round(auc_dt*100, 2)), (round(auc_abc*100, 2)), (round(auc_xgb*100, 2))],\n",
    "    'Misclassification (%)': [(abs(acc_svc-100)), (abs(acc_knn-100)), (abs(acc_log-100)), (abs(acc_random_forest-100)), (abs(acc_gaussian-100)), (abs(acc_perceptron-100)), (abs(acc_sgd-100)), (abs(acc_linear_svc-100)), (abs(acc_decision_tree-100)), (abs(abc_score-100)), (abs(XGB_score-100))],\n",
    "    'Mean Absolute Error (%)' : [svm_mae, knn_mae, lr_mae, rf_mae, gnb_mae, p_mae, sgd_mae, lsvc_mae, dt_mae, abc_mae, xgb_mae],\n",
    "    'Mean Squared Error (%)' : [svm_mse, knn_mse, lr_mse, rf_mse, gnb_mse, p_mse, sgd_mse, lsvc_mse, dt_mse, abc_mse, xgb_mse],\n",
    "    'Standard Deviation' : ['--', '--', std_lr, std_rf, '--', '--', '--', '--', std_dt, std_abc, std_xgb]\n",
    "})\n",
    "models.to_csv (r'data/export_dataframe.csv', index = False, header=True)\n",
    "models.sort_values(by = 'Accuracy Score (%)', ascending = False)"
   ]
  },
  {
   "cell_type": "markdown",
   "metadata": {},
   "source": [
    "## Visualizations"
   ]
  },
  {
   "cell_type": "code",
   "execution_count": 82,
   "metadata": {},
   "outputs": [],
   "source": [
    "Tfont = {'fontname':'Cambria', 'fontsize':20}\n",
    "Lfont = {'fontname':'Cambria', 'fontsize':16}"
   ]
  },
  {
   "cell_type": "code",
   "execution_count": 83,
   "metadata": {},
   "outputs": [
    {
     "data": {
      "image/png": "[encoded data removed]",
      "text/plain": [
       "<Figure size 1152x576 with 1 Axes>"
      ]
     },
     "metadata": {
      "needs_background": "light"
     },
     "output_type": "display_data"
    }
   ],
   "source": [
    "plt.figure(figsize=(16, 8))\n",
    "splot=sns.barplot(y=\"Accuracy Score (%)\",x=\"Algorithm Name\",data=models)\n",
    "for p in splot.patches:\n",
    "    splot.annotate(format(p.get_height(), '.2f'), \n",
    "                   (p.get_x() + p.get_width() / 2., p.get_height()), \n",
    "                   ha = 'center', va = 'center', \n",
    "                   size=12,\n",
    "                   xytext = (0, -12), \n",
    "                   textcoords = 'offset points')\n",
    "\n",
    "plt.xticks(rotation=90)\n",
    "\n",
    "plt.title(\"Accuracy Chart\",**Tfont)\n",
    "plt.ylabel(\"Accuracy (%)\",**Lfont)\n",
    "plt.xlabel(\"Algorithm Name\",**Lfont)\n",
    "\n",
    "plt.show()"
   ]
  },
  {
   "cell_type": "code",
   "execution_count": 84,
   "metadata": {},
   "outputs": [
    {
     "data": {
      "image/png": "[encoded data removed]",
      "text/plain": [
       "<Figure size 1152x576 with 1 Axes>"
      ]
     },
     "metadata": {
      "needs_background": "light"
     },
     "output_type": "display_data"
    }
   ],
   "source": [
    "plt.figure(figsize=(16, 8))\n",
    "splot=sns.barplot(y=\"Misclassification (%)\",x=\"Algorithm Name\",data=models)\n",
    "for p in splot.patches:\n",
    "    splot.annotate(format(p.get_height(), '.2f'), \n",
    "                   (p.get_x() + p.get_width() / 2., p.get_height()), \n",
    "                   ha = 'center', va = 'center', \n",
    "                   size=12,\n",
    "                   xytext = (0, -12), \n",
    "                   textcoords = 'offset points')\n",
    "\n",
    "plt.xticks(rotation=90)\n",
    "\n",
    "plt.title(\"Misclassification Chart\",**Tfont)\n",
    "plt.ylabel(\"Misclassification (%)\",**Lfont)\n",
    "plt.xlabel(\"Algorithm Name\",**Lfont)\n",
    "\n",
    "plt.show()"
   ]
  },
  {
   "cell_type": "code",
   "execution_count": 85,
   "metadata": {},
   "outputs": [
    {
     "data": {
      "image/png": "[encoded data removed]",
      "text/plain": [
       "<Figure size 1152x576 with 1 Axes>"
      ]
     },
     "metadata": {
      "needs_background": "light"
     },
     "output_type": "display_data"
    }
   ],
   "source": [
    "plt.figure(figsize=(16, 8))\n",
    "splot=sns.barplot(y=\"Jaccard Score (%)\",x=\"Algorithm Name\",data=models)\n",
    "for p in splot.patches:\n",
    "    splot.annotate(format(p.get_height(), '.2f'), \n",
    "                   (p.get_x() + p.get_width() / 2., p.get_height()), \n",
    "                   ha = 'center', va = 'center', \n",
    "                   size=12,\n",
    "                   xytext = (0, -12), \n",
    "                   textcoords = 'offset points')\n",
    "\n",
    "plt.xticks(rotation=90)\n",
    "\n",
    "plt.title(\"Jaccard Similarity Index Chart\",**Tfont)\n",
    "plt.ylabel(\"Jaccard Score (%)\",**Lfont)\n",
    "plt.xlabel(\"Algorithm Name\",**Lfont)\n",
    "\n",
    "plt.show()"
   ]
  },
  {
   "cell_type": "code",
   "execution_count": 86,
   "metadata": {},
   "outputs": [
    {
     "data": {
      "image/png": "[encoded data removed]",
      "text/plain": [
       "<Figure size 1152x576 with 1 Axes>"
      ]
     },
     "metadata": {
      "needs_background": "light"
     },
     "output_type": "display_data"
    }
   ],
   "source": [
    "plt.figure(figsize=(16, 8))\n",
    "splot=sns.barplot(y=\"Cross Validated Score (%)\",x=\"Algorithm Name\",data=models)\n",
    "for p in splot.patches:\n",
    "    splot.annotate(format(p.get_height(), '.2f'), \n",
    "                   (p.get_x() + p.get_width() / 2., p.get_height()), \n",
    "                   ha = 'center', va = 'center', \n",
    "                   size=12,\n",
    "                   xytext = (0, -12), \n",
    "                   textcoords = 'offset points')\n",
    "\n",
    "plt.xticks(rotation=90)\n",
    "\n",
    "plt.title(\"Cross Validation Chart\",**Tfont)\n",
    "plt.ylabel(\"Cross Validated Score (%)\",**Lfont)\n",
    "plt.xlabel(\"Algorithm Name\",**Lfont)\n",
    "\n",
    "plt.show()"
   ]
  },
  {
   "cell_type": "code",
   "execution_count": 87,
   "metadata": {},
   "outputs": [
    {
     "data": {
      "image/png": "[encoded data removed]",
      "text/plain": [
       "<Figure size 1152x576 with 1 Axes>"
      ]
     },
     "metadata": {
      "needs_background": "light"
     },
     "output_type": "display_data"
    }
   ],
   "source": [
    "plt.figure(figsize=(16, 8))\n",
    "splot=sns.barplot(y=\"AUC Score (%)\",x=\"Algorithm Name\",data=models)\n",
    "for p in splot.patches:\n",
    "    splot.annotate(format(p.get_height(), '.2f'), \n",
    "                   (p.get_x() + p.get_width() / 2., p.get_height()), \n",
    "                   ha = 'center', va = 'center', \n",
    "                   size=12,\n",
    "                   xytext = (0, -12), \n",
    "                   textcoords = 'offset points')\n",
    "\n",
    "plt.xticks(rotation=90)\n",
    "\n",
    "plt.title(\"ROC - AUC Chart\",**Tfont)\n",
    "plt.ylabel(\"AUC Score (%)\",**Lfont)\n",
    "plt.xlabel(\"Algorithm Name\",**Lfont)\n",
    "\n",
    "plt.show()"
   ]
  },
  {
   "cell_type": "code",
   "execution_count": null,
   "metadata": {},
   "outputs": [],
   "source": []
  }
 ],
 "metadata": {
  "kernelspec": {
   "display_name": "Python 3",
   "language": "python",
   "name": "python3"
  },
  "language_info": {
   "codemirror_mode": {
    "name": "ipython",
    "version": 3
   },
   "file_extension": ".py",
   "mimetype": "text/x-python",
   "name": "python",
   "nbconvert_exporter": "python",
   "pygments_lexer": "ipython3",
   "version": "3.9.5"
  }
 },
 "nbformat": 4,
 "nbformat_minor": 4
}
